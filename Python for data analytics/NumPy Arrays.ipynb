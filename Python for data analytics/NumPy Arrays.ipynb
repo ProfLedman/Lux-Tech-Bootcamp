{
 "cells": [
  {
   "cell_type": "code",
   "execution_count": 3,
   "id": "3eebb7dc",
   "metadata": {},
   "outputs": [],
   "source": [
    "import numpy as np"
   ]
  },
  {
   "cell_type": "code",
   "execution_count": 5,
   "id": "3c206983",
   "metadata": {},
   "outputs": [
    {
     "name": "stdout",
     "output_type": "stream",
     "text": [
      "1.20.3\n"
     ]
    }
   ],
   "source": [
    "print(np.__version__)"
   ]
  },
  {
   "cell_type": "code",
   "execution_count": 7,
   "id": "c5c364f6",
   "metadata": {},
   "outputs": [],
   "source": [
    "L = list(range(100))"
   ]
  },
  {
   "cell_type": "code",
   "execution_count": 8,
   "id": "f2e845dc",
   "metadata": {},
   "outputs": [
    {
     "name": "stdout",
     "output_type": "stream",
     "text": [
      "[0, 1, 2, 3, 4, 5, 6, 7, 8, 9, 10, 11, 12, 13, 14, 15, 16, 17, 18, 19, 20, 21, 22, 23, 24, 25, 26, 27, 28, 29, 30, 31, 32, 33, 34, 35, 36, 37, 38, 39, 40, 41, 42, 43, 44, 45, 46, 47, 48, 49, 50, 51, 52, 53, 54, 55, 56, 57, 58, 59, 60, 61, 62, 63, 64, 65, 66, 67, 68, 69, 70, 71, 72, 73, 74, 75, 76, 77, 78, 79, 80, 81, 82, 83, 84, 85, 86, 87, 88, 89, 90, 91, 92, 93, 94, 95, 96, 97, 98, 99]\n"
     ]
    }
   ],
   "source": [
    "print (L)"
   ]
  },
  {
   "cell_type": "code",
   "execution_count": 9,
   "id": "7bef6625",
   "metadata": {},
   "outputs": [
    {
     "data": {
      "text/plain": [
       "int"
      ]
     },
     "execution_count": 9,
     "metadata": {},
     "output_type": "execute_result"
    }
   ],
   "source": [
    "type(L[10])"
   ]
  },
  {
   "cell_type": "code",
   "execution_count": 11,
   "id": "1a9ee287",
   "metadata": {},
   "outputs": [
    {
     "name": "stdout",
     "output_type": "stream",
     "text": [
      "['0', '1', '2', '3', '4', '5', '6', '7', '8', '9', '10', '11', '12', '13', '14', '15', '16', '17', '18', '19', '20', '21', '22', '23', '24', '25', '26', '27', '28', '29', '30', '31', '32', '33', '34', '35', '36', '37', '38', '39', '40', '41', '42', '43', '44', '45', '46', '47', '48', '49', '50', '51', '52', '53', '54', '55', '56', '57', '58', '59', '60', '61', '62', '63', '64', '65', '66', '67', '68', '69', '70', '71', '72', '73', '74', '75', '76', '77', '78', '79', '80', '81', '82', '83', '84', '85', '86', '87', '88', '89', '90', '91', '92', '93', '94', '95', '96', '97', '98', '99']\n"
     ]
    }
   ],
   "source": [
    "L2 = [str(i) for i in L]\n",
    "print(L2)"
   ]
  },
  {
   "cell_type": "code",
   "execution_count": 12,
   "id": "500d34a4",
   "metadata": {},
   "outputs": [
    {
     "name": "stdout",
     "output_type": "stream",
     "text": [
      "[<class 'bool'>, <class 'str'>, <class 'float'>, <class 'int'>]\n"
     ]
    }
   ],
   "source": [
    "L3 = [True, \"3\", 4.5, 8]\n",
    "print([type(item) for item in L3])"
   ]
  },
  {
   "cell_type": "markdown",
   "id": "f7a8df38",
   "metadata": {},
   "source": [
    "# Creating arrays from Python lists"
   ]
  },
  {
   "cell_type": "code",
   "execution_count": 14,
   "id": "14723d6a",
   "metadata": {},
   "outputs": [
    {
     "name": "stdout",
     "output_type": "stream",
     "text": [
      "[ 0  1  2  3  4  5  6  7  8  9 10 11 12 13 14 15 16 17 18 19 20 21 22 23\n",
      " 24 25 26 27 28 29 30 31 32 33 34 35 36 37 38 39 40 41 42 43 44 45 46 47\n",
      " 48 49 50 51 52 53 54 55 56 57 58 59 60 61 62 63 64 65 66 67 68 69 70 71\n",
      " 72 73 74 75 76 77 78 79 80 81 82 83 84 85 86 87 88 89 90 91 92 93 94 95\n",
      " 96 97 98 99]\n"
     ]
    }
   ],
   "source": [
    "L4 = np.array(L2, dtype = int)\n",
    "print(L4)"
   ]
  },
  {
   "cell_type": "code",
   "execution_count": 24,
   "id": "eb186574",
   "metadata": {},
   "outputs": [
    {
     "data": {
      "text/plain": [
       "array([[2, 3, 4],\n",
       "       [4, 5, 6],\n",
       "       [6, 7, 8]])"
      ]
     },
     "execution_count": 24,
     "metadata": {},
     "output_type": "execute_result"
    }
   ],
   "source": [
    "np.array([range(i, i+3) for i in [2, 4, 6]])"
   ]
  },
  {
   "cell_type": "markdown",
   "id": "553da578",
   "metadata": {},
   "source": [
    "# creating arrays from scratch"
   ]
  },
  {
   "cell_type": "code",
   "execution_count": 15,
   "id": "bd5a9f59",
   "metadata": {},
   "outputs": [
    {
     "data": {
      "text/plain": [
       "array([[1, 1, 1, 1, 1, 1],\n",
       "       [1, 1, 1, 1, 1, 1],\n",
       "       [1, 1, 1, 1, 1, 1],\n",
       "       [1, 1, 1, 1, 1, 1]])"
      ]
     },
     "execution_count": 15,
     "metadata": {},
     "output_type": "execute_result"
    }
   ],
   "source": [
    "np.ones((4,6), dtype = int)"
   ]
  },
  {
   "cell_type": "code",
   "execution_count": 16,
   "id": "56e7ddb9",
   "metadata": {},
   "outputs": [
    {
     "data": {
      "text/plain": [
       "array([  0. ,   1.5,   3. ,   4.5,   6. ,   7.5,   9. ,  10.5,  12. ,\n",
       "        13.5,  15. ,  16.5,  18. ,  19.5,  21. ,  22.5,  24. ,  25.5,\n",
       "        27. ,  28.5,  30. ,  31.5,  33. ,  34.5,  36. ,  37.5,  39. ,\n",
       "        40.5,  42. ,  43.5,  45. ,  46.5,  48. ,  49.5,  51. ,  52.5,\n",
       "        54. ,  55.5,  57. ,  58.5,  60. ,  61.5,  63. ,  64.5,  66. ,\n",
       "        67.5,  69. ,  70.5,  72. ,  73.5,  75. ,  76.5,  78. ,  79.5,\n",
       "        81. ,  82.5,  84. ,  85.5,  87. ,  88.5,  90. ,  91.5,  93. ,\n",
       "        94.5,  96. ,  97.5,  99. , 100.5, 102. , 103.5, 105. , 106.5,\n",
       "       108. , 109.5, 111. , 112.5, 114. , 115.5, 117. , 118.5, 120. ,\n",
       "       121.5, 123. , 124.5, 126. , 127.5, 129. , 130.5, 132. , 133.5,\n",
       "       135. , 136.5, 138. , 139.5, 141. , 142.5, 144. , 145.5, 147. ,\n",
       "       148.5, 150. , 151.5, 153. , 154.5, 156. , 157.5, 159. , 160.5,\n",
       "       162. , 163.5, 165. , 166.5, 168. , 169.5, 171. , 172.5, 174. ,\n",
       "       175.5, 177. , 178.5, 180. , 181.5, 183. , 184.5, 186. , 187.5,\n",
       "       189. , 190.5, 192. , 193.5, 195. , 196.5, 198. , 199.5, 201. ,\n",
       "       202.5, 204. , 205.5, 207. , 208.5, 210. , 211.5, 213. , 214.5,\n",
       "       216. , 217.5, 219. , 220.5, 222. , 223.5, 225. , 226.5, 228. ,\n",
       "       229.5, 231. , 232.5, 234. , 235.5, 237. , 238.5, 240. , 241.5,\n",
       "       243. , 244.5, 246. , 247.5, 249. , 250.5, 252. , 253.5, 255. ,\n",
       "       256.5, 258. , 259.5, 261. , 262.5, 264. , 265.5, 267. , 268.5,\n",
       "       270. , 271.5, 273. , 274.5, 276. , 277.5, 279. , 280.5, 282. ,\n",
       "       283.5, 285. , 286.5, 288. , 289.5, 291. , 292.5, 294. , 295.5,\n",
       "       297. , 298.5, 300. , 301.5, 303. , 304.5, 306. , 307.5, 309. ,\n",
       "       310.5, 312. , 313.5, 315. , 316.5, 318. , 319.5, 321. , 322.5,\n",
       "       324. , 325.5, 327. , 328.5, 330. , 331.5, 333. , 334.5, 336. ,\n",
       "       337.5, 339. , 340.5, 342. , 343.5, 345. , 346.5, 348. , 349.5,\n",
       "       351. , 352.5, 354. , 355.5, 357. , 358.5, 360. , 361.5, 363. ,\n",
       "       364.5, 366. , 367.5, 369. , 370.5, 372. , 373.5, 375. , 376.5,\n",
       "       378. , 379.5, 381. , 382.5, 384. , 385.5, 387. , 388.5, 390. ,\n",
       "       391.5, 393. , 394.5, 396. , 397.5, 399. , 400.5, 402. , 403.5,\n",
       "       405. , 406.5, 408. , 409.5, 411. , 412.5, 414. , 415.5, 417. ,\n",
       "       418.5, 420. , 421.5, 423. , 424.5, 426. , 427.5, 429. , 430.5,\n",
       "       432. , 433.5, 435. , 436.5, 438. , 439.5, 441. , 442.5, 444. ,\n",
       "       445.5, 447. , 448.5, 450. , 451.5, 453. , 454.5, 456. , 457.5,\n",
       "       459. , 460.5, 462. , 463.5, 465. , 466.5, 468. , 469.5, 471. ,\n",
       "       472.5, 474. , 475.5, 477. , 478.5, 480. , 481.5, 483. , 484.5,\n",
       "       486. , 487.5, 489. , 490.5, 492. , 493.5, 495. , 496.5, 498. ,\n",
       "       499.5, 501. , 502.5, 504. , 505.5, 507. , 508.5, 510. , 511.5,\n",
       "       513. , 514.5, 516. , 517.5, 519. , 520.5, 522. , 523.5, 525. ,\n",
       "       526.5, 528. , 529.5, 531. , 532.5, 534. , 535.5, 537. , 538.5,\n",
       "       540. , 541.5, 543. , 544.5, 546. , 547.5, 549. , 550.5, 552. ,\n",
       "       553.5, 555. , 556.5, 558. , 559.5, 561. , 562.5, 564. , 565.5,\n",
       "       567. , 568.5, 570. , 571.5, 573. , 574.5, 576. , 577.5, 579. ,\n",
       "       580.5, 582. , 583.5, 585. , 586.5, 588. , 589.5, 591. , 592.5,\n",
       "       594. , 595.5, 597. , 598.5, 600. , 601.5, 603. , 604.5, 606. ,\n",
       "       607.5, 609. , 610.5, 612. , 613.5, 615. , 616.5, 618. , 619.5,\n",
       "       621. , 622.5, 624. , 625.5, 627. , 628.5, 630. , 631.5, 633. ,\n",
       "       634.5, 636. , 637.5, 639. , 640.5, 642. , 643.5, 645. , 646.5,\n",
       "       648. , 649.5, 651. , 652.5, 654. , 655.5, 657. , 658.5, 660. ,\n",
       "       661.5, 663. , 664.5, 666. , 667.5, 669. , 670.5, 672. , 673.5,\n",
       "       675. , 676.5, 678. , 679.5, 681. , 682.5, 684. , 685.5, 687. ,\n",
       "       688.5, 690. , 691.5, 693. , 694.5, 696. , 697.5, 699. , 700.5,\n",
       "       702. , 703.5, 705. , 706.5, 708. , 709.5, 711. , 712.5, 714. ,\n",
       "       715.5, 717. , 718.5, 720. , 721.5, 723. , 724.5, 726. , 727.5,\n",
       "       729. , 730.5, 732. , 733.5, 735. , 736.5, 738. , 739.5, 741. ,\n",
       "       742.5, 744. , 745.5, 747. , 748.5, 750. , 751.5, 753. , 754.5,\n",
       "       756. , 757.5, 759. , 760.5, 762. , 763.5, 765. , 766.5, 768. ,\n",
       "       769.5, 771. , 772.5, 774. , 775.5, 777. , 778.5, 780. , 781.5,\n",
       "       783. , 784.5, 786. , 787.5, 789. , 790.5, 792. , 793.5, 795. ,\n",
       "       796.5, 798. , 799.5, 801. , 802.5, 804. , 805.5, 807. , 808.5,\n",
       "       810. , 811.5, 813. , 814.5, 816. , 817.5, 819. , 820.5, 822. ,\n",
       "       823.5, 825. , 826.5, 828. , 829.5, 831. , 832.5, 834. , 835.5,\n",
       "       837. , 838.5, 840. , 841.5, 843. , 844.5, 846. , 847.5, 849. ,\n",
       "       850.5, 852. , 853.5, 855. , 856.5, 858. , 859.5, 861. , 862.5,\n",
       "       864. , 865.5, 867. , 868.5, 870. , 871.5, 873. , 874.5, 876. ,\n",
       "       877.5, 879. , 880.5, 882. , 883.5, 885. , 886.5, 888. , 889.5,\n",
       "       891. , 892.5, 894. , 895.5, 897. , 898.5, 900. , 901.5, 903. ,\n",
       "       904.5, 906. , 907.5, 909. , 910.5, 912. , 913.5, 915. , 916.5,\n",
       "       918. , 919.5, 921. , 922.5, 924. , 925.5, 927. , 928.5, 930. ,\n",
       "       931.5, 933. , 934.5, 936. , 937.5, 939. , 940.5, 942. , 943.5,\n",
       "       945. , 946.5, 948. , 949.5, 951. , 952.5, 954. , 955.5, 957. ,\n",
       "       958.5, 960. , 961.5, 963. , 964.5, 966. , 967.5, 969. , 970.5,\n",
       "       972. , 973.5, 975. , 976.5, 978. , 979.5, 981. , 982.5, 984. ,\n",
       "       985.5, 987. , 988.5, 990. , 991.5, 993. , 994.5, 996. , 997.5,\n",
       "       999. ])"
      ]
     },
     "execution_count": 16,
     "metadata": {},
     "output_type": "execute_result"
    }
   ],
   "source": [
    "np.arange(0, 1000, 1.5)"
   ]
  },
  {
   "cell_type": "code",
   "execution_count": 17,
   "id": "7c263340",
   "metadata": {},
   "outputs": [
    {
     "data": {
      "text/plain": [
       "array([ 0.,  2.,  4.,  6.,  8., 10.])"
      ]
     },
     "execution_count": 17,
     "metadata": {},
     "output_type": "execute_result"
    }
   ],
   "source": [
    "np.linspace(0, 10, 6)"
   ]
  },
  {
   "cell_type": "code",
   "execution_count": 20,
   "id": "c1684aed",
   "metadata": {},
   "outputs": [
    {
     "data": {
      "text/plain": [
       "array([[ 4.13909276, 25.98822165, 53.3169962 , 36.01409215, 37.849804  ,\n",
       "        23.20313291],\n",
       "       [24.09929333, 25.2434696 , 22.2931398 , 20.54154999, 21.01445453,\n",
       "        23.54503537],\n",
       "       [18.04107612, 37.48177521, 19.36477612, 13.92817057, 21.64521988,\n",
       "        31.45417425],\n",
       "       [24.76652833, 10.97649192, 27.87137802, 28.64309701, 44.07243339,\n",
       "        21.86047154],\n",
       "       [27.87636455, 27.00511314,  7.63006377, 15.35649691, 27.2026498 ,\n",
       "        12.5148136 ]])"
      ]
     },
     "execution_count": 20,
     "metadata": {},
     "output_type": "execute_result"
    }
   ],
   "source": [
    "np.random.normal(25, 12, (5,6))"
   ]
  },
  {
   "cell_type": "code",
   "execution_count": 21,
   "id": "98118a79",
   "metadata": {},
   "outputs": [
    {
     "data": {
      "text/plain": [
       "array([[56, 70, 38],\n",
       "       [49, 92, 49],\n",
       "       [89, 68, 78]])"
      ]
     },
     "execution_count": 21,
     "metadata": {},
     "output_type": "execute_result"
    }
   ],
   "source": [
    "np.random.randint(0,100,(3,3))"
   ]
  },
  {
   "cell_type": "code",
   "execution_count": 22,
   "id": "543d61c3",
   "metadata": {},
   "outputs": [
    {
     "data": {
      "text/plain": [
       "array([[1., 0., 0., 0.],\n",
       "       [0., 1., 0., 0.],\n",
       "       [0., 0., 1., 0.],\n",
       "       [0., 0., 0., 1.]])"
      ]
     },
     "execution_count": 22,
     "metadata": {},
     "output_type": "execute_result"
    }
   ],
   "source": [
    "np.eye(4)"
   ]
  },
  {
   "cell_type": "markdown",
   "id": "128be6ff",
   "metadata": {},
   "source": [
    "# Numpy Array Attributes\n",
    "We’ll use\n",
    "NumPy’s random number generator, which we will seed with a set value in order to\n",
    "ensure that the same random arrays are generated each time this code is run:"
   ]
  },
  {
   "cell_type": "code",
   "execution_count": 27,
   "id": "e98e8324",
   "metadata": {},
   "outputs": [],
   "source": [
    "np.random.seed(0) #seed for reproducibility\n",
    "x1 = np.random.randint(10, size=6) #one-dimensional array\n",
    "x2 = np.random.randint(10, size = (3, 4)) #2D array\n",
    "x3 = np.random.randint(10, size = (3, 4, 5)) #3D array"
   ]
  },
  {
   "cell_type": "code",
   "execution_count": 28,
   "id": "57cbdcd2",
   "metadata": {
    "scrolled": true
   },
   "outputs": [
    {
     "name": "stdout",
     "output_type": "stream",
     "text": [
      "x3 ndim:  3\n",
      "x3 shape: (3, 4, 5)\n",
      "x3 size:  60\n"
     ]
    }
   ],
   "source": [
    "print(\"x3 ndim: \", x3.ndim)\n",
    "print(\"x3 shape:\", x3.shape)\n",
    "print(\"x3 size: \", x3.size)\n"
   ]
  },
  {
   "cell_type": "code",
   "execution_count": 29,
   "id": "135a5447",
   "metadata": {},
   "outputs": [
    {
     "name": "stdout",
     "output_type": "stream",
     "text": [
      "dtype:  int32\n"
     ]
    }
   ],
   "source": [
    "print(\"dtype: \", x3.dtype)"
   ]
  },
  {
   "cell_type": "code",
   "execution_count": 30,
   "id": "0e956837",
   "metadata": {},
   "outputs": [
    {
     "name": "stdout",
     "output_type": "stream",
     "text": [
      "Item Size:  4 bytes\n",
      "nbytes:  240 bytes\n"
     ]
    }
   ],
   "source": [
    "print(\"Item Size: \", x3.itemsize, \"bytes\") #lists the size of each array element\n",
    "print(\"nbytes: \", x3.nbytes, \"bytes\") #nbytes lists the total size of the array"
   ]
  },
  {
   "cell_type": "markdown",
   "id": "4539ce7d",
   "metadata": {},
   "source": [
    "In a multidimensional array, you access items using a comma-separated tuple of\n",
    "indices:"
   ]
  },
  {
   "cell_type": "code",
   "execution_count": 31,
   "id": "56b2dd7c",
   "metadata": {},
   "outputs": [
    {
     "data": {
      "text/plain": [
       "3"
      ]
     },
     "execution_count": 31,
     "metadata": {},
     "output_type": "execute_result"
    }
   ],
   "source": [
    "x2[0,0]"
   ]
  },
  {
   "cell_type": "markdown",
   "id": "1b66f760",
   "metadata": {},
   "source": [
    "You can also modify values using any of the above index notation:\n"
   ]
  },
  {
   "cell_type": "code",
   "execution_count": 32,
   "id": "24284aa5",
   "metadata": {},
   "outputs": [
    {
     "data": {
      "text/plain": [
       "array([[12,  5,  2,  4],\n",
       "       [ 7,  6,  8,  8],\n",
       "       [ 1,  6,  7,  7]])"
      ]
     },
     "execution_count": 32,
     "metadata": {},
     "output_type": "execute_result"
    }
   ],
   "source": [
    "x2[0,0] = 12\n",
    "x2"
   ]
  },
  {
   "cell_type": "markdown",
   "id": "6c68c858",
   "metadata": {},
   "source": [
    "Keep in mind that, unlike Python lists, NumPy arrays have a fixed type. This means,\n",
    "for example, that if you attempt to insert a floating-point value to an integer array, the\n",
    "value will be silently truncated. Don’t be caught unaware by this behavior!"
   ]
  },
  {
   "cell_type": "markdown",
   "id": "d3efde59",
   "metadata": {},
   "source": [
    "# Array Slicing: Accessing Subarrays"
   ]
  },
  {
   "cell_type": "code",
   "execution_count": 33,
   "id": "22ca5b28",
   "metadata": {},
   "outputs": [
    {
     "data": {
      "text/plain": [
       "array([0, 1, 2, 3, 4, 5, 6, 7, 8, 9])"
      ]
     },
     "execution_count": 33,
     "metadata": {},
     "output_type": "execute_result"
    }
   ],
   "source": [
    "# One-dimensionsal subarrays\n",
    "x=np.arange(10)\n",
    "x"
   ]
  },
  {
   "cell_type": "code",
   "execution_count": 34,
   "id": "22702781",
   "metadata": {},
   "outputs": [
    {
     "data": {
      "text/plain": [
       "5"
      ]
     },
     "execution_count": 34,
     "metadata": {},
     "output_type": "execute_result"
    }
   ],
   "source": [
    "x[5]"
   ]
  },
  {
   "cell_type": "code",
   "execution_count": 36,
   "id": "05d26794",
   "metadata": {},
   "outputs": [
    {
     "data": {
      "text/plain": [
       "array([0, 1, 2, 3, 4])"
      ]
     },
     "execution_count": 36,
     "metadata": {},
     "output_type": "execute_result"
    }
   ],
   "source": [
    "x[:5]#the first five elements"
   ]
  },
  {
   "cell_type": "code",
   "execution_count": 35,
   "id": "3e5dd261",
   "metadata": {},
   "outputs": [
    {
     "data": {
      "text/plain": [
       "array([5, 6, 7, 8, 9])"
      ]
     },
     "execution_count": 35,
     "metadata": {},
     "output_type": "execute_result"
    }
   ],
   "source": [
    "x[5:]#the elements after index 5"
   ]
  },
  {
   "cell_type": "code",
   "execution_count": 37,
   "id": "b23dd37a",
   "metadata": {},
   "outputs": [
    {
     "data": {
      "text/plain": [
       "array([4, 5, 6])"
      ]
     },
     "execution_count": 37,
     "metadata": {},
     "output_type": "execute_result"
    }
   ],
   "source": [
    "x[4:7]#middle subbarray"
   ]
  },
  {
   "cell_type": "code",
   "execution_count": 38,
   "id": "8e559d84",
   "metadata": {},
   "outputs": [
    {
     "data": {
      "text/plain": [
       "array([0, 2, 4, 6, 8])"
      ]
     },
     "execution_count": 38,
     "metadata": {},
     "output_type": "execute_result"
    }
   ],
   "source": [
    "x[::2] #every other element"
   ]
  },
  {
   "cell_type": "code",
   "execution_count": 39,
   "id": "f3f5a73a",
   "metadata": {},
   "outputs": [
    {
     "data": {
      "text/plain": [
       "array([1, 3, 5, 7, 9])"
      ]
     },
     "execution_count": 39,
     "metadata": {},
     "output_type": "execute_result"
    }
   ],
   "source": [
    "x[1::2] #every other element, starting at index 1"
   ]
  },
  {
   "cell_type": "markdown",
   "id": "65aa4ce6",
   "metadata": {},
   "source": [
    "A potentially confusing case is when the step value is negative. In this case, the\n",
    "defaults for start and stop are swapped. This becomes a convenient way to reverse\n",
    "an array:"
   ]
  },
  {
   "cell_type": "code",
   "execution_count": 40,
   "id": "881e72cf",
   "metadata": {},
   "outputs": [
    {
     "data": {
      "text/plain": [
       "array([9, 8, 7, 6, 5, 4, 3, 2, 1, 0])"
      ]
     },
     "execution_count": 40,
     "metadata": {},
     "output_type": "execute_result"
    }
   ],
   "source": [
    "x[::-1]#all elements reversed"
   ]
  },
  {
   "cell_type": "code",
   "execution_count": 41,
   "id": "ea2882e4",
   "metadata": {},
   "outputs": [
    {
     "data": {
      "text/plain": [
       "array([5, 3, 1])"
      ]
     },
     "execution_count": 41,
     "metadata": {},
     "output_type": "execute_result"
    }
   ],
   "source": [
    "x[5::-2] #reversed every other from index 5"
   ]
  },
  {
   "cell_type": "code",
   "execution_count": 42,
   "id": "c396e3ab",
   "metadata": {},
   "outputs": [
    {
     "data": {
      "text/plain": [
       "array([[12,  5,  2,  4],\n",
       "       [ 7,  6,  8,  8],\n",
       "       [ 1,  6,  7,  7]])"
      ]
     },
     "execution_count": 42,
     "metadata": {},
     "output_type": "execute_result"
    }
   ],
   "source": [
    "#Multidimensional subarrays\n",
    "x2"
   ]
  },
  {
   "cell_type": "code",
   "execution_count": 43,
   "id": "4ee4305e",
   "metadata": {},
   "outputs": [
    {
     "data": {
      "text/plain": [
       "array([[12,  5,  2],\n",
       "       [ 7,  6,  8]])"
      ]
     },
     "execution_count": 43,
     "metadata": {},
     "output_type": "execute_result"
    }
   ],
   "source": [
    "x2[:2, :3] #two rows, three columns"
   ]
  },
  {
   "cell_type": "code",
   "execution_count": 44,
   "id": "b9699876",
   "metadata": {},
   "outputs": [
    {
     "data": {
      "text/plain": [
       "array([[12,  2],\n",
       "       [ 7,  8],\n",
       "       [ 1,  7]])"
      ]
     },
     "execution_count": 44,
     "metadata": {},
     "output_type": "execute_result"
    }
   ],
   "source": [
    "x2[:3, ::2] #all rows, every other column"
   ]
  },
  {
   "cell_type": "markdown",
   "id": "e0130010",
   "metadata": {},
   "source": [
    "subarray dimensions can even be reversed together:"
   ]
  },
  {
   "cell_type": "code",
   "execution_count": 45,
   "id": "d75ff271",
   "metadata": {},
   "outputs": [
    {
     "data": {
      "text/plain": [
       "array([[ 7,  7,  6,  1],\n",
       "       [ 8,  8,  6,  7],\n",
       "       [ 4,  2,  5, 12]])"
      ]
     },
     "execution_count": 45,
     "metadata": {},
     "output_type": "execute_result"
    }
   ],
   "source": [
    "x2[::-1, ::-1]"
   ]
  },
  {
   "cell_type": "code",
   "execution_count": 46,
   "id": "59a7049c",
   "metadata": {},
   "outputs": [
    {
     "name": "stdout",
     "output_type": "stream",
     "text": [
      "[12  7  1]\n"
     ]
    }
   ],
   "source": [
    "#Acessing array rows and columns\n",
    "#You can do this by combining indexing and slicing,using an empty slice marked by a single colon (:):\n",
    "print(x2[:, 0]) #first column of x2"
   ]
  },
  {
   "cell_type": "code",
   "execution_count": 47,
   "id": "ff68900f",
   "metadata": {},
   "outputs": [
    {
     "name": "stdout",
     "output_type": "stream",
     "text": [
      "[12  5  2  4]\n"
     ]
    }
   ],
   "source": [
    "print(x2[0, :]) #first row of x2"
   ]
  },
  {
   "cell_type": "code",
   "execution_count": 48,
   "id": "85b9c8c1",
   "metadata": {},
   "outputs": [
    {
     "name": "stdout",
     "output_type": "stream",
     "text": [
      "[12  5  2  4]\n"
     ]
    }
   ],
   "source": [
    "print(x2[0]) # equivalent to x2[0, :] but more compact"
   ]
  },
  {
   "cell_type": "markdown",
   "id": "b93f9329",
   "metadata": {},
   "source": [
    "Subarrays as no-copy views"
   ]
  },
  {
   "cell_type": "code",
   "execution_count": 49,
   "id": "feb71a17",
   "metadata": {},
   "outputs": [
    {
     "name": "stdout",
     "output_type": "stream",
     "text": [
      "[[12  5  2  4]\n",
      " [ 7  6  8  8]\n",
      " [ 1  6  7  7]]\n"
     ]
    }
   ],
   "source": [
    "print(x2)"
   ]
  },
  {
   "cell_type": "code",
   "execution_count": 51,
   "id": "1fad4da5",
   "metadata": {},
   "outputs": [
    {
     "name": "stdout",
     "output_type": "stream",
     "text": [
      "[[12  5]\n",
      " [ 7  6]]\n"
     ]
    }
   ],
   "source": [
    "x2_sub = x2[:2, :2] #extracting a 2X2 subarray\n",
    "print(x2_sub)"
   ]
  },
  {
   "cell_type": "markdown",
   "id": "a17d00f0",
   "metadata": {},
   "source": [
    "#if we modify this subarray, we’ll see that the original array is changed! Observe:"
   ]
  },
  {
   "cell_type": "code",
   "execution_count": 52,
   "id": "ba6ae521",
   "metadata": {},
   "outputs": [
    {
     "name": "stdout",
     "output_type": "stream",
     "text": [
      "[[99  5]\n",
      " [ 7  6]]\n"
     ]
    }
   ],
   "source": [
    "x2_sub[0,0] = 99\n",
    "print(x2_sub)"
   ]
  },
  {
   "cell_type": "code",
   "execution_count": 53,
   "id": "4ff53593",
   "metadata": {},
   "outputs": [
    {
     "name": "stdout",
     "output_type": "stream",
     "text": [
      "[[99  5  2  4]\n",
      " [ 7  6  8  8]\n",
      " [ 1  6  7  7]]\n"
     ]
    }
   ],
   "source": [
    "print(x2)"
   ]
  },
  {
   "cell_type": "markdown",
   "id": "48948023",
   "metadata": {},
   "source": [
    "This default behavior is actually quite useful: it means that when we work with large datasets, we can access and process pieces of these datasets without the need to copy the underlying data buffer."
   ]
  },
  {
   "cell_type": "code",
   "execution_count": 54,
   "id": "08c7d5dc",
   "metadata": {},
   "outputs": [
    {
     "name": "stdout",
     "output_type": "stream",
     "text": [
      "[[99  5]\n",
      " [ 7  6]]\n"
     ]
    }
   ],
   "source": [
    "#Creating copies of arrays\n",
    "x2_sub_copy = x2[:2, :2].copy()\n",
    "print(x2_sub_copy)"
   ]
  },
  {
   "cell_type": "code",
   "execution_count": null,
   "id": "9c683c82",
   "metadata": {},
   "outputs": [],
   "source": [
    "#If we now modify this subarray, the original array is not touched\n",
    "x2_sub_copy[0]"
   ]
  }
 ],
 "metadata": {
  "kernelspec": {
   "display_name": "Python 3 (ipykernel)",
   "language": "python",
   "name": "python3"
  },
  "language_info": {
   "codemirror_mode": {
    "name": "ipython",
    "version": 3
   },
   "file_extension": ".py",
   "mimetype": "text/x-python",
   "name": "python",
   "nbconvert_exporter": "python",
   "pygments_lexer": "ipython3",
   "version": "3.9.7"
  }
 },
 "nbformat": 4,
 "nbformat_minor": 5
}
