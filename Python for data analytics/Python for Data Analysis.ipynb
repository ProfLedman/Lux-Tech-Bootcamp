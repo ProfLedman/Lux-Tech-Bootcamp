{
 "cells": [
  {
   "cell_type": "markdown",
   "id": "8c4c98ef-da50-4fbd-b0e0-4f348e8acb57",
   "metadata": {},
   "source": [
    "# Python for Data Analysis: Core Concepts and Practice"
   ]
  },
  {
   "cell_type": "markdown",
   "id": "0c6e9b01-2304-41c4-b573-c0dcabee8a9a",
   "metadata": {},
   "source": [
    "## Introduction\n",
    "\n",
    "As part of my data science bootcamp, I attended a session on **Introduction to Python for Data Analysis**. The session introduced key Python concepts essential for data wrangling, exploration, and analysis. Python's simplicity, flexibility, and vast ecosystem make it ideal for data-driven tasks. This file reflects on the key concepts learned and includes practical code examples. Some of the concepts are supported by information from the following source that I've been reading to further my understanding: *Halterman, R. L. (2018). Fundamentals of programming Python. Southern Adventist University*."
   ]
  },
  {
   "cell_type": "markdown",
   "id": "196a09d2-bc8f-4a1b-8df8-40b883ef127d",
   "metadata": {},
   "source": [
    "## Key Concepts Covered\r\n",
    "\r\n",
    "### 1. Python Basics\r\n",
    "\r\n",
    "Python is a high-level, interpreted programming language created by **Guido van Rossum** in 1991. It's known for its simplicity and readability, supporting both object-oriented and functional programming paradigms. Python is widely used in data science, AI, and web development."
   ]
  },
  {
   "cell_type": "code",
   "execution_count": 6,
   "id": "b9bd894e-be1a-437f-b0d7-33bcca350a40",
   "metadata": {},
   "outputs": [
    {
     "name": "stdout",
     "output_type": "stream",
     "text": [
      "Hello, Data Science!\n"
     ]
    }
   ],
   "source": [
    "# Basic variable assignment and printing\n",
    "name = \"Data Science\"\n",
    "print(f\"Hello, {name}!\")"
   ]
  },
  {
   "cell_type": "markdown",
   "id": "6b1a75af-1b19-40bf-b39e-8f489026c9e1",
   "metadata": {},
   "source": [
    "### 2. Data Types in Python\n",
    "\n",
    "Python supports a wide range of data types, each critical for handling different kinds of information, especially in data analysis. Key types include:\n",
    "- **Numerical Types**: `int` (integer), `float` (floating-point), `complex` (complex numbers).\n",
    "- **Sequence Types**: `str` (string), `list` (mutable ordered collection), `tuple` (immutable ordered collection), `range` (sequence of numbers).\n",
    "- **Other Types**: `dict` (dictionary for key-value pairs), `set` (unordered unique elements), `bool` (Boolean), `NoneType` (represents the absence of a value).\n"
   ]
  },
  {
   "cell_type": "code",
   "execution_count": 10,
   "id": "f02b45c9-ab26-40e2-8192-98bb81e0babb",
   "metadata": {},
   "outputs": [
    {
     "name": "stdout",
     "output_type": "stream",
     "text": [
      "<class 'int'> <class 'float'> <class 'str'> <class 'bool'>\n"
     ]
    }
   ],
   "source": [
    "# Examples of different data types\n",
    "int_var = 10\n",
    "float_var = 20.5\n",
    "string_var = \"Python\"\n",
    "bool_var = True\n",
    "print(type(int_var), type(float_var), type(string_var), type(bool_var))"
   ]
  },
  {
   "cell_type": "markdown",
   "id": "84a43d47-167a-441c-8122-4af742ded071",
   "metadata": {},
   "source": [
    "### 3. Variables\n",
    "\n",
    "Variables are containers for storing data values. They are **case-sensitive** and must follow specific naming rules. A variable is a name that refers to a value, and the assignment operator `(=)` is used to assign values to variables. For example, the statement `x = 1` assigns the value `1` to the variable `x`. Variables can store various data types like integers, floats, strings, etc.\n",
    "the assignment operator in programming is different from the equality operator in mathematics. In programming, `x = x + 1` means “take the current value of `x`, add `1` to it, and store the result back in `x`\"\n",
    "\n",
    "### Python Variable Naming Rules\r\n",
    "\r\n",
    "In Python, variable names follow strict rules. A variab constitutes f an **identifier. an identifier is *—a word used to name elements like variables, functions, classes, and methods. Identifiers must adhere to the following guideline\n",
    "1. An identifier must contain at least one character.\n",
    "2. The first character must be an alphabetic letter (uppercase or lowercase) or an underscore (`_`).\n",
    "3. The remaining characters can be alphabetic, digits, or underscores.\n",
    "4. Spaces are not allowed.\n",
    "5. Reserved Python keywords cannot be used as identifiers.s internal syntax.\r\n"
   ]
  },
  {
   "cell_type": "code",
   "execution_count": 20,
   "id": "fefb6788-08ca-4fd9-b78f-fd8c63fcdb21",
   "metadata": {},
   "outputs": [
    {
     "name": "stdout",
     "output_type": "stream",
     "text": [
      "Alice is 25 years old.\n"
     ]
    }
   ],
   "source": [
    "# Variable declaration and printing\n",
    "age = 25\n",
    "name = \"Alice\"\n",
    "print(f\"{name} is {age} years old.\")"
   ]
  },
  {
   "cell_type": "markdown",
   "id": "3109b5c3-4824-4e11-b087-9519cc8c8466",
   "metadata": {},
   "source": [
    "### 4. Operators\n",
    "\n",
    "Python supports various types of operators for performing operations on variables:\n",
    "- **Arithmetic operators**: Perform basic mathematical operations such as `+`, `-`, `*`, `/`, `//`, `%`, and `**` (exponentiation).\n",
    "- **Comparison operators**: Compare values using `==`, `!=`, `<`, `>`, `<=`, `>=`.\n",
    "- **Logical operators**: Combine conditions with `and`, `or`, and `not`."
   ]
  },
  {
   "cell_type": "code",
   "execution_count": 23,
   "id": "5a1b52ae-ab84-42ab-ab83-6bf6d97ae5da",
   "metadata": {},
   "outputs": [
    {
     "name": "stdout",
     "output_type": "stream",
     "text": [
      "Addition: 13\n",
      "Floor division: 3\n",
      "Exponentiation: 1000\n"
     ]
    }
   ],
   "source": [
    "a = 10\n",
    "b = 3\n",
    "print(f\"Addition: {a + b}\")\n",
    "print(f\"Floor division: {a // b}\")\n",
    "print(f\"Exponentiation: {a ** b}\")"
   ]
  },
  {
   "cell_type": "code",
   "execution_count": 25,
   "id": "d24910f8-14b9-4bb6-9127-02f3855a3226",
   "metadata": {},
   "outputs": [
    {
     "name": "stdout",
     "output_type": "stream",
     "text": [
      "x and y: False\n",
      "x or y: True\n"
     ]
    }
   ],
   "source": [
    "# Logical operators\n",
    "x = True\n",
    "y = False\n",
    "print(f\"x and y: {x and y}\")\n",
    "print(f\"x or y: {x or y}\")"
   ]
  },
  {
   "cell_type": "markdown",
   "id": "3a23f9dd-ac6a-4109-9693-84dbd67142d0",
   "metadata": {},
   "source": [
    "### 5. Strings\n",
    "\n",
    "Strings in Python are sequences of characters enclosed in quotes. They support various operations such as concatenation, slicing, and formatting using f-strings."
   ]
  },
  {
   "cell_type": "code",
   "execution_count": 63,
   "id": "68a9e2b6-da6e-43ce-a790-43f2385dd085",
   "metadata": {},
   "outputs": [
    {
     "name": "stdout",
     "output_type": "stream",
     "text": [
      "Welcome to Python programming!\n"
     ]
    }
   ],
   "source": [
    "# String operations and f-strings\n",
    "name = \"Python\"\n",
    "my_string = \"Hello, world!\"\n",
    "another_string = 'This is another string.'\n",
    "greeting = f\"Welcome to {name} programming!\"\n",
    "print(greeting)"
   ]
  },
  {
   "cell_type": "code",
   "execution_count": 69,
   "id": "8f8d4597-f28f-462f-9bf6-ca3233738c64",
   "metadata": {},
   "outputs": [
    {
     "name": "stdout",
     "output_type": "stream",
     "text": [
      "first char: H\n",
      "last char: !\n",
      "First 3 letters: Pyt\n",
      "Last 3 letters: hon\n",
      "world!\n"
     ]
    }
   ],
   "source": [
    "# Slicing strings\n",
    "print(f\"first char: {my_string[0]}\")  \n",
    "print(f\"last char: {my_string[-1]}\")\n",
    "print(f\"First 3 letters: {name[:3]}\")\n",
    "print(f\"Last 3 letters: {name[-3:]}\")\n",
    "substring = my_string[7:13]\n",
    "print(substring)"
   ]
  },
  {
   "cell_type": "code",
   "execution_count": 75,
   "id": "0f04d5d3-99bb-4047-96ab-8937804fa15f",
   "metadata": {},
   "outputs": [
    {
     "data": {
      "text/plain": [
       "'Hello, world! How are you?'"
      ]
     },
     "execution_count": 75,
     "metadata": {},
     "output_type": "execute_result"
    }
   ],
   "source": [
    "# Concatenating strings\n",
    "combined_string = my_string + \" How are you?\"\n",
    "combined_string"
   ]
  },
  {
   "cell_type": "code",
   "execution_count": 79,
   "id": "b382e5e7-1078-46ed-ab17-97cbe68dda35",
   "metadata": {},
   "outputs": [
    {
     "name": "stdout",
     "output_type": "stream",
     "text": [
      "13\n",
      "HELLO, WORLD!\n",
      "hello, world!\n"
     ]
    },
    {
     "data": {
      "text/plain": [
       "'!dlrow ,olleH'"
      ]
     },
     "execution_count": 79,
     "metadata": {},
     "output_type": "execute_result"
    }
   ],
   "source": [
    "# String methods\n",
    "print(len(my_string)) \n",
    "print(my_string.upper())\n",
    "print(my_string.lower())\n",
    "reversed_string = my_string[::-1]\n",
    "reversed_string"
   ]
  },
  {
   "cell_type": "markdown",
   "id": "dff33ac3-d146-4c0e-af54-1e03f62d8a1b",
   "metadata": {},
   "source": [
    "### 6. Lists\r\n",
    "\r\n",
    "Lists are ordered collections of elements that are **mutable**, meaning their elements can be modified. Lists are one of the most commonly used data structures in Python for data analysis. This session only covedrs the basics of lists. However, I intend to dig deep and s Some of the areas that I will need to cover include the following:\r\n",
    "\r\n",
    "- List slicing and advanced indexing techniques.\r\n",
    "- Nested lists and multi-dimensional lists.\r\n",
    "- List methods such as `sort()`, `reverse()`, `extend()`, and `pop()`.\r\n",
    "- List comprehension for more concise and readable code.\r\n",
    "- Memory efficiency and performance considerations when working with larglists.\r\n",
    "\n"
   ]
  },
  {
   "cell_type": "code",
   "execution_count": 51,
   "id": "5c3198a5-9397-45fd-8a09-eb074d12e469",
   "metadata": {},
   "outputs": [
    {
     "name": "stdout",
     "output_type": "stream",
     "text": [
      "[10, 20, 30, 40, 50]\n"
     ]
    }
   ],
   "source": [
    "# Creating a simple list of numbers\n",
    "my_list = [10, 20, 30, 40, 50]\n",
    "print(my_list)"
   ]
  },
  {
   "cell_type": "code",
   "execution_count": 53,
   "id": "2b915696-f508-4cd2-873f-313d2b917804",
   "metadata": {},
   "outputs": [
    {
     "name": "stdout",
     "output_type": "stream",
     "text": [
      "First: 10, Last: 50\n"
     ]
    }
   ],
   "source": [
    "# Accessing elements by index - indexing starts at 0\n",
    "first_element = my_list[0] \n",
    "last_element = my_list[-1] \n",
    "print(f\"First: {first_element}, Last: {last_element}\")\n"
   ]
  },
  {
   "cell_type": "code",
   "execution_count": 55,
   "id": "f936935c-1532-44ae-99e4-c5c62ccdd075",
   "metadata": {},
   "outputs": [
    {
     "name": "stdout",
     "output_type": "stream",
     "text": [
      "[10, 25, 30, 40, 50]\n"
     ]
    }
   ],
   "source": [
    "# Changing the value of the second element\n",
    "my_list[1] = 25\n",
    "print(my_list)"
   ]
  },
  {
   "cell_type": "code",
   "execution_count": 57,
   "id": "46ffc93c-26d2-4ee6-b46d-7f9e7945af0e",
   "metadata": {},
   "outputs": [
    {
     "name": "stdout",
     "output_type": "stream",
     "text": [
      "[10, 25, 30, 40, 50, 60]\n"
     ]
    }
   ],
   "source": [
    "# Adding an element to the end of the list using append()\n",
    "my_list.append(60)\n",
    "print(my_list)"
   ]
  },
  {
   "cell_type": "code",
   "execution_count": 59,
   "id": "5d207881-1258-4bc1-9186-87123df934cf",
   "metadata": {},
   "outputs": [
    {
     "name": "stdout",
     "output_type": "stream",
     "text": [
      "[10, 25, 30, 40, 50]\n",
      "[10, 25, 40, 50]\n"
     ]
    }
   ],
   "source": [
    "# Removing the last element using pop()\n",
    "my_list.pop()\n",
    "print(my_list)\n",
    "\n",
    "# Removing a specific element by value\n",
    "my_list.remove(30)\n",
    "print(my_list)"
   ]
  },
  {
   "cell_type": "code",
   "execution_count": 61,
   "id": "e79edcd6-6f02-4cab-9ec0-59a724a1fe0a",
   "metadata": {},
   "outputs": [
    {
     "name": "stdout",
     "output_type": "stream",
     "text": [
      "List length: 4\n"
     ]
    }
   ],
   "source": [
    "# Finding the length of a list\n",
    "list_length = len(my_list)\n",
    "print(f\"List length: {list_length}\")"
   ]
  },
  {
   "cell_type": "markdown",
   "id": "c714357f-cc0d-4c1b-97f9-cd001d6d6da4",
   "metadata": {},
   "source": [
    "### 7. Tuples\n",
    "\n",
    "Tuples in Python are a built-in data type that allows you to store multiple items in a single variable. They are similar to lists but have a few key differences:\n",
    "**Immutability:** Tuples are immutable, meaning once they are created, their contents cannot be changed (you cannot add, remove, or modify elements).\n",
    "**Syntax:** Tuples are defined using parentheses () while lists use square brackets [].\n",
    "**Creating Tuples**\n",
    "You can create a tuple by placing a comma-separated list of items within parentheses."
   ]
  },
  {
   "cell_type": "code",
   "execution_count": 93,
   "id": "1667fd48-41b2-4395-b420-a7429e9d0bd3",
   "metadata": {},
   "outputs": [
    {
     "name": "stdout",
     "output_type": "stream",
     "text": [
      "(10, 20, 30, 40, 50)\n",
      "(1, 'Hello', 3.14, True)\n",
      "(42,)\n"
     ]
    }
   ],
   "source": [
    "# Creating a tuple\n",
    "my_tuple = (10, 20, 30, 40, 50)\n",
    "print(my_tuple)\n",
    "\n",
    "# Creating a tuple with mixed data types\n",
    "mixed_tuple = (1, \"Hello\", 3.14, True)\n",
    "print(mixed_tuple)\n",
    "# Creating a tuple with a single element\n",
    "single_element_tuple = (42,)\n",
    "print(single_element_tuple)  # Output: (42,)"
   ]
  },
  {
   "cell_type": "code",
   "execution_count": 95,
   "id": "3d7930be-791b-4e1c-840f-e5675df6064c",
   "metadata": {},
   "outputs": [
    {
     "name": "stdout",
     "output_type": "stream",
     "text": [
      "10\n",
      "30\n",
      "50\n"
     ]
    }
   ],
   "source": [
    "# Accessing elements\n",
    "print(my_tuple[0])\n",
    "print(my_tuple[2])\n",
    "# Accessing elements from the end\n",
    "print(my_tuple[-1])"
   ]
  },
  {
   "cell_type": "code",
   "execution_count": 97,
   "id": "8c096aa6-ce77-4080-9a55-97ed3b532077",
   "metadata": {},
   "outputs": [
    {
     "name": "stdout",
     "output_type": "stream",
     "text": [
      "(20, 30, 40)\n"
     ]
    }
   ],
   "source": [
    "# Slicing a tuple\n",
    "print(my_tuple[1:4])"
   ]
  },
  {
   "cell_type": "code",
   "execution_count": 99,
   "id": "78ec798b-70f1-445f-8bff-0f17c75a80bd",
   "metadata": {},
   "outputs": [
    {
     "name": "stdout",
     "output_type": "stream",
     "text": [
      "(1, 2, 3)\n",
      "1\n",
      "2\n",
      "3\n"
     ]
    }
   ],
   "source": [
    "# Tuple packing\n",
    "packed_tuple = (1, 2, 3)\n",
    "print(packed_tuple) \n",
    "\n",
    "# Tuple unpacking\n",
    "a, b, c = packed_tuple\n",
    "print(a) \n",
    "print(b)\n",
    "print(c)"
   ]
  },
  {
   "cell_type": "code",
   "execution_count": 101,
   "id": "6902cf28-964f-4a2e-b2b2-d131e1e8627b",
   "metadata": {},
   "outputs": [
    {
     "name": "stdout",
     "output_type": "stream",
     "text": [
      "(1, 2, 3, 4, 5, 6)\n",
      "(1, 2, 3, 1, 2, 3, 1, 2, 3)\n"
     ]
    }
   ],
   "source": [
    "# Concatenation\n",
    "tuple1 = (1, 2, 3)\n",
    "tuple2 = (4, 5, 6)\n",
    "combined = tuple1 + tuple2\n",
    "print(combined)\n",
    "# Repetition\n",
    "repeated = tuple1 * 3\n",
    "print(repeated)"
   ]
  },
  {
   "cell_type": "code",
   "execution_count": 103,
   "id": "8ca9c839-5b67-4329-a557-88163552ae8b",
   "metadata": {},
   "outputs": [
    {
     "name": "stdout",
     "output_type": "stream",
     "text": [
      "1\n",
      "2\n",
      "3\n",
      "4\n",
      "5\n"
     ]
    }
   ],
   "source": [
    "#Iterating through a tuple\n",
    "my_tuple = (1, 2, 3, 4, 5)\n",
    "for item in my_tuple:\n",
    "    print(item)\n"
   ]
  },
  {
   "cell_type": "markdown",
   "id": "970a5b45-72d2-4ef7-a0e5-2fc31df805ee",
   "metadata": {},
   "source": [
    "\n",
    "### 8. Functions and Modules\n",
    "Functions are reusable blocks of code that perform a specific task. Functions help make the code more modular and easier to maintain. The basic syntax for defining a function includes the def keyword, followed by the function name, parentheses (which may include parameters), and a colon. The function body is indented.\n",
    "Functions can take parameters, which allow you to pass values into the function. When you call a function, the values you provide are called arguments.\n",
    "A function provides a service to the code that uses it.\n",
    "Like the mathematical functions that must produce a result, a Python function always produces a value to return to the caller.\n",
    "A python module is simple a file that contains python code. The name of the file dictates the name of the module. `math.py` represents the math module.\n",
    "`from math import sqrt, log10, cos`\n",
    "In order to use a function, the caller must attach the module's name during the call `math.sqrt(x)` - qualified name. The complete name unambiguously identifies the function with its module. "
   ]
  },
  {
   "cell_type": "code",
   "execution_count": 108,
   "id": "cb38efdc-4108-4103-bf15-2aea3c6516ea",
   "metadata": {},
   "outputs": [
    {
     "name": "stdout",
     "output_type": "stream",
     "text": [
      "Hello, World!\n"
     ]
    }
   ],
   "source": [
    "#Function syntax\n",
    "def greet():\n",
    "    print(\"Hello, World!\")\n",
    "\n",
    "# Calling the function\n",
    "greet()\n"
   ]
  },
  {
   "cell_type": "code",
   "execution_count": 112,
   "id": "a7188b05-f414-48e0-9c66-cac8834291d7",
   "metadata": {},
   "outputs": [
    {
     "name": "stdout",
     "output_type": "stream",
     "text": [
      "Hello, Alice!\n",
      "Hello, Bob!\n"
     ]
    }
   ],
   "source": [
    "#parameters\n",
    "def greet(name):\n",
    "    print(f\"Hello, {name}!\")\n",
    "\n",
    "# Calling the function with an argument\n",
    "greet(\"Alice\")\n",
    "greet(\"Bob\")"
   ]
  },
  {
   "cell_type": "markdown",
   "id": "b0f14db8-ce37-42ff-932f-7dd7ed42a649",
   "metadata": {},
   "source": [
    "### Return Statement\n",
    "The return statement is used to exit a function and go back to the place from where it was called. It can also return a value to the caller."
   ]
  },
  {
   "cell_type": "code",
   "execution_count": 115,
   "id": "871b913f-4cd6-48fd-9fbb-4c19602f57f9",
   "metadata": {},
   "outputs": [
    {
     "name": "stdout",
     "output_type": "stream",
     "text": [
      "8\n"
     ]
    }
   ],
   "source": [
    "def add(a, b):\n",
    "    return a + b\n",
    "\n",
    "# Calling the function and storing the result\n",
    "result = add(5, 3)\n",
    "print(result)\n"
   ]
  },
  {
   "cell_type": "markdown",
   "id": "1bb210d6-d04a-4f97-a2a0-086f16043bea",
   "metadata": {},
   "source": [
    "### Built-in Functions\n",
    "Python provides many built-in functions like print(), len(), and range(), which are readily available for use."
   ]
  },
  {
   "cell_type": "code",
   "execution_count": 119,
   "id": "bee1f69f-5ffa-46bb-ac82-b16a709a8a6c",
   "metadata": {},
   "outputs": [
    {
     "name": "stdout",
     "output_type": "stream",
     "text": [
      "5\n",
      "range(0, 5)\n"
     ]
    }
   ],
   "source": [
    "# Using built-in functions\n",
    "print(len(\"Hello\"))\n",
    "print(range(5))"
   ]
  },
  {
   "cell_type": "markdown",
   "id": "f75d7cec-aae0-49fb-8db9-cf7260285bba",
   "metadata": {},
   "source": [
    "### User-defined Functions\n",
    "Creating user-defined functions allows you to encapsulate logic specific to your application. This is important for promoting code reuse."
   ]
  },
  {
   "cell_type": "code",
   "execution_count": 122,
   "id": "3a3dca12-c93c-4b30-8236-4ea91705216a",
   "metadata": {},
   "outputs": [
    {
     "name": "stdout",
     "output_type": "stream",
     "text": [
      "20\n"
     ]
    }
   ],
   "source": [
    "def multiply(x, y):\n",
    "    return x * y\n",
    "\n",
    "# Calling the function\n",
    "product = multiply(4, 5)\n",
    "print(product)"
   ]
  },
  {
   "cell_type": "markdown",
   "id": "afd03099-fa12-4d6d-b497-7010d42bf113",
   "metadata": {},
   "source": [
    "### Scope and Lifetime\n",
    "Variables defined inside a function are local to that function and cannot be accessed outside it. The scope of a variable is the region of the program where it is recognized, and the lifetime is the duration for which the variable exists in memory."
   ]
  },
  {
   "cell_type": "code",
   "execution_count": 127,
   "id": "617bc3e8-9287-48ce-8e1d-261c660c700d",
   "metadata": {},
   "outputs": [
    {
     "name": "stdout",
     "output_type": "stream",
     "text": [
      "10\n"
     ]
    }
   ],
   "source": [
    "def my_function():\n",
    "    local_var = 10  # Local variable\n",
    "    print(local_var)\n",
    "\n",
    "my_function() "
   ]
  },
  {
   "cell_type": "code",
   "execution_count": 129,
   "id": "d00b49c0-f6d8-43b3-9258-2512c775c527",
   "metadata": {},
   "outputs": [
    {
     "ename": "NameError",
     "evalue": "name 'local_var' is not defined",
     "output_type": "error",
     "traceback": [
      "\u001b[1;31m---------------------------------------------------------------------------\u001b[0m",
      "\u001b[1;31mNameError\u001b[0m                                 Traceback (most recent call last)",
      "Cell \u001b[1;32mIn[129], line 1\u001b[0m\n\u001b[1;32m----> 1\u001b[0m \u001b[38;5;28mprint\u001b[39m(local_var)\n",
      "\u001b[1;31mNameError\u001b[0m: name 'local_var' is not defined"
     ]
    }
   ],
   "source": [
    "print(local_var)  # This will raise a NameError because local_var is not defined outside the function"
   ]
  },
  {
   "cell_type": "markdown",
   "id": "9552f315-5af9-4393-a2fa-79a3aedff706",
   "metadata": {},
   "source": [
    "### Lambda Functions\n",
    "Lambda functions are small anonymous functions defined using the lambda keyword. They can take any number of arguments but only have one expression."
   ]
  },
  {
   "cell_type": "code",
   "execution_count": 134,
   "id": "6dbd0e00-1a02-4da3-86cf-3cfbbd67869e",
   "metadata": {},
   "outputs": [
    {
     "name": "stdout",
     "output_type": "stream",
     "text": [
      "25\n",
      "[2, 4]\n"
     ]
    }
   ],
   "source": [
    "# Defining a lambda function\n",
    "square = lambda x: x ** 2\n",
    "\n",
    "# Using the lambda function\n",
    "print(square(5)) \n",
    "\n",
    "# Using lambda with `filter`\n",
    "numbers = [1, 2, 3, 4, 5]\n",
    "even_numbers = list(filter(lambda x: x % 2 == 0, numbers))\n",
    "print(even_numbers)"
   ]
  },
  {
   "cell_type": "markdown",
   "id": "4176b1ce-b003-4367-bdd1-7a53f8a9c9dc",
   "metadata": {},
   "source": [
    "### Lambda expressions\n",
    "Lambda expressions in Python allow the creation of anonymous functions (functions without a name) that can be used to simplify code, especially when a function is needed only once. Here are some of the key points I've discovered regarding lambda expressions. I also provide code examples to illustrate their use:\n",
    "\n",
    "**Definition:**\n",
    "Lambda expressions are defined using the lambda keyword followed by a parameter list and a single expression.\n",
    "`lambda parameter_list: expression`\n",
    "\n",
    "**Parameters and Expressions:**\n",
    "The parameters are similar to those in a normal function definition but without parentheses.\n",
    "The expression is evaluated and returned. It cannot contain statements or multiple expressions.\n",
    "\n",
    "**Usage with Functions:**\n",
    "Lambda expressions can be passed as arguments to functions. This is useful for short, one-off functions.\n",
    "\n",
    "**Closures:**\n",
    "Lambda functions can capture variables from their surrounding context, creating closures.\n"
   ]
  },
  {
   "cell_type": "code",
   "execution_count": 141,
   "id": "71d2990b-5ea7-4f84-b175-4d5087c7f656",
   "metadata": {},
   "outputs": [
    {
     "name": "stdout",
     "output_type": "stream",
     "text": [
      "15\n"
     ]
    }
   ],
   "source": [
    "def evaluate(f, x, y):\n",
    "    return f(x, y)\n",
    "result = evaluate(lambda x, y: x + y, 10, 5)\n",
    "print(result)"
   ]
  },
  {
   "cell_type": "code",
   "execution_count": 143,
   "id": "969387e6-6546-4a2f-a308-cedf1b1291ff",
   "metadata": {},
   "outputs": [
    {
     "name": "stdout",
     "output_type": "stream",
     "text": [
      "10\n",
      "2\n"
     ]
    }
   ],
   "source": [
    "# Lambda for conditional expression\n",
    "result = evaluate(lambda x, y: 10 if x == y else 2, 5, 5)\n",
    "print(result)\n",
    "\n",
    "result = evaluate(lambda x, y: 10 if x == y else 2, 5, 3)\n",
    "print(result)\n"
   ]
  },
  {
   "cell_type": "code",
   "execution_count": 145,
   "id": "36488c17-6dd0-49b3-afa6-0846eac1a1f0",
   "metadata": {},
   "outputs": [
    {
     "name": "stdout",
     "output_type": "stream",
     "text": [
      "12\n",
      "4\n"
     ]
    }
   ],
   "source": [
    "def make_adder():\n",
    "    loc_val = 2 \n",
    "    return lambda x: x + loc_val \n",
    "\n",
    "add_two = make_adder()\n",
    "print(add_two(10))\n",
    "print(add_two(2)) "
   ]
  },
  {
   "cell_type": "code",
   "execution_count": 147,
   "id": "bd61321c-f5e6-4d22-9995-1ad6a532891f",
   "metadata": {},
   "outputs": [
    {
     "name": "stdout",
     "output_type": "stream",
     "text": [
      "6\n"
     ]
    }
   ],
   "source": [
    "# Immediate invocation of a lambda expression\n",
    "print((lambda x, y: x * y)(2, 3))"
   ]
  },
  {
   "cell_type": "code",
   "execution_count": 151,
   "id": "fc632535-76fc-4277-8015-7b3ef95313a0",
   "metadata": {},
   "outputs": [
    {
     "name": "stdout",
     "output_type": "stream",
     "text": [
      "[1, 4, 9, 16, 25]\n"
     ]
    }
   ],
   "source": [
    "#Using Lambda with Built-in Functions\n",
    "numbers = [1, 2, 3, 4, 5]\n",
    "squares = list(map(lambda x: x**2, numbers))\n",
    "print(squares)\n"
   ]
  },
  {
   "cell_type": "code",
   "execution_count": null,
   "id": "7c352b44-5e0e-457c-b076-647f0a34aa68",
   "metadata": {},
   "outputs": [],
   "source": []
  }
 ],
 "metadata": {
  "kernelspec": {
   "display_name": "Python 3 (ipykernel)",
   "language": "python",
   "name": "python3"
  },
  "language_info": {
   "codemirror_mode": {
    "name": "ipython",
    "version": 3
   },
   "file_extension": ".py",
   "mimetype": "text/x-python",
   "name": "python",
   "nbconvert_exporter": "python",
   "pygments_lexer": "ipython3",
   "version": "3.11.7"
  }
 },
 "nbformat": 4,
 "nbformat_minor": 5
}
