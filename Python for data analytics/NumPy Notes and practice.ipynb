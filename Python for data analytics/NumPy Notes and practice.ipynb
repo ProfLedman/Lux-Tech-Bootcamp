{
 "cells": [
  {
   "cell_type": "code",
   "execution_count": 3,
   "id": "e7351204",
   "metadata": {},
   "outputs": [],
   "source": [
    "import numpy as np"
   ]
  },
  {
   "cell_type": "code",
   "execution_count": 5,
   "id": "4b0968eb",
   "metadata": {},
   "outputs": [
    {
     "name": "stdout",
     "output_type": "stream",
     "text": [
      "1.20.3\n"
     ]
    }
   ],
   "source": [
    "print(np.__version__)"
   ]
  },
  {
   "cell_type": "code",
   "execution_count": 7,
   "id": "d7e33a6f",
   "metadata": {},
   "outputs": [],
   "source": [
    "L = list(range(100))"
   ]
  },
  {
   "cell_type": "code",
   "execution_count": 8,
   "id": "e05953da",
   "metadata": {},
   "outputs": [
    {
     "name": "stdout",
     "output_type": "stream",
     "text": [
      "[0, 1, 2, 3, 4, 5, 6, 7, 8, 9, 10, 11, 12, 13, 14, 15, 16, 17, 18, 19, 20, 21, 22, 23, 24, 25, 26, 27, 28, 29, 30, 31, 32, 33, 34, 35, 36, 37, 38, 39, 40, 41, 42, 43, 44, 45, 46, 47, 48, 49, 50, 51, 52, 53, 54, 55, 56, 57, 58, 59, 60, 61, 62, 63, 64, 65, 66, 67, 68, 69, 70, 71, 72, 73, 74, 75, 76, 77, 78, 79, 80, 81, 82, 83, 84, 85, 86, 87, 88, 89, 90, 91, 92, 93, 94, 95, 96, 97, 98, 99]\n"
     ]
    }
   ],
   "source": [
    "print (L)"
   ]
  },
  {
   "cell_type": "code",
   "execution_count": 9,
   "id": "99e35e96",
   "metadata": {},
   "outputs": [
    {
     "data": {
      "text/plain": [
       "int"
      ]
     },
     "execution_count": 9,
     "metadata": {},
     "output_type": "execute_result"
    }
   ],
   "source": [
    "type(L[10])"
   ]
  },
  {
   "cell_type": "code",
   "execution_count": 11,
   "id": "02e0040a",
   "metadata": {},
   "outputs": [
    {
     "name": "stdout",
     "output_type": "stream",
     "text": [
      "['0', '1', '2', '3', '4', '5', '6', '7', '8', '9', '10', '11', '12', '13', '14', '15', '16', '17', '18', '19', '20', '21', '22', '23', '24', '25', '26', '27', '28', '29', '30', '31', '32', '33', '34', '35', '36', '37', '38', '39', '40', '41', '42', '43', '44', '45', '46', '47', '48', '49', '50', '51', '52', '53', '54', '55', '56', '57', '58', '59', '60', '61', '62', '63', '64', '65', '66', '67', '68', '69', '70', '71', '72', '73', '74', '75', '76', '77', '78', '79', '80', '81', '82', '83', '84', '85', '86', '87', '88', '89', '90', '91', '92', '93', '94', '95', '96', '97', '98', '99']\n"
     ]
    }
   ],
   "source": [
    "L2 = [str(i) for i in L]\n",
    "print(L2)"
   ]
  },
  {
   "cell_type": "code",
   "execution_count": 12,
   "id": "8d75c24f",
   "metadata": {},
   "outputs": [
    {
     "name": "stdout",
     "output_type": "stream",
     "text": [
      "[<class 'bool'>, <class 'str'>, <class 'float'>, <class 'int'>]\n"
     ]
    }
   ],
   "source": [
    "L3 = [True, \"3\", 4.5, 8]\n",
    "print([type(item) for item in L3])"
   ]
  },
  {
   "cell_type": "markdown",
   "id": "6bad6226",
   "metadata": {},
   "source": [
    "# Creating arrays from Python lists"
   ]
  },
  {
   "cell_type": "code",
   "execution_count": 14,
   "id": "f7285d3a",
   "metadata": {},
   "outputs": [
    {
     "name": "stdout",
     "output_type": "stream",
     "text": [
      "[ 0  1  2  3  4  5  6  7  8  9 10 11 12 13 14 15 16 17 18 19 20 21 22 23\n",
      " 24 25 26 27 28 29 30 31 32 33 34 35 36 37 38 39 40 41 42 43 44 45 46 47\n",
      " 48 49 50 51 52 53 54 55 56 57 58 59 60 61 62 63 64 65 66 67 68 69 70 71\n",
      " 72 73 74 75 76 77 78 79 80 81 82 83 84 85 86 87 88 89 90 91 92 93 94 95\n",
      " 96 97 98 99]\n"
     ]
    }
   ],
   "source": [
    "L4 = np.array(L2, dtype = int)\n",
    "print(L4)"
   ]
  },
  {
   "cell_type": "code",
   "execution_count": 24,
   "id": "e84421a4",
   "metadata": {},
   "outputs": [
    {
     "data": {
      "text/plain": [
       "array([[2, 3, 4],\n",
       "       [4, 5, 6],\n",
       "       [6, 7, 8]])"
      ]
     },
     "execution_count": 24,
     "metadata": {},
     "output_type": "execute_result"
    }
   ],
   "source": [
    "np.array([range(i, i+3) for i in [2, 4, 6]])"
   ]
  },
  {
   "cell_type": "markdown",
   "id": "0c08826b",
   "metadata": {},
   "source": [
    "# creating arrays from scratch"
   ]
  },
  {
   "cell_type": "code",
   "execution_count": 15,
   "id": "8693dfaf",
   "metadata": {},
   "outputs": [
    {
     "data": {
      "text/plain": [
       "array([[1, 1, 1, 1, 1, 1],\n",
       "       [1, 1, 1, 1, 1, 1],\n",
       "       [1, 1, 1, 1, 1, 1],\n",
       "       [1, 1, 1, 1, 1, 1]])"
      ]
     },
     "execution_count": 15,
     "metadata": {},
     "output_type": "execute_result"
    }
   ],
   "source": [
    "np.ones((4,6), dtype = int)"
   ]
  },
  {
   "cell_type": "code",
   "execution_count": 16,
   "id": "105ca7aa",
   "metadata": {},
   "outputs": [
    {
     "data": {
      "text/plain": [
       "array([  0. ,   1.5,   3. ,   4.5,   6. ,   7.5,   9. ,  10.5,  12. ,\n",
       "        13.5,  15. ,  16.5,  18. ,  19.5,  21. ,  22.5,  24. ,  25.5,\n",
       "        27. ,  28.5,  30. ,  31.5,  33. ,  34.5,  36. ,  37.5,  39. ,\n",
       "        40.5,  42. ,  43.5,  45. ,  46.5,  48. ,  49.5,  51. ,  52.5,\n",
       "        54. ,  55.5,  57. ,  58.5,  60. ,  61.5,  63. ,  64.5,  66. ,\n",
       "        67.5,  69. ,  70.5,  72. ,  73.5,  75. ,  76.5,  78. ,  79.5,\n",
       "        81. ,  82.5,  84. ,  85.5,  87. ,  88.5,  90. ,  91.5,  93. ,\n",
       "        94.5,  96. ,  97.5,  99. , 100.5, 102. , 103.5, 105. , 106.5,\n",
       "       108. , 109.5, 111. , 112.5, 114. , 115.5, 117. , 118.5, 120. ,\n",
       "       121.5, 123. , 124.5, 126. , 127.5, 129. , 130.5, 132. , 133.5,\n",
       "       135. , 136.5, 138. , 139.5, 141. , 142.5, 144. , 145.5, 147. ,\n",
       "       148.5, 150. , 151.5, 153. , 154.5, 156. , 157.5, 159. , 160.5,\n",
       "       162. , 163.5, 165. , 166.5, 168. , 169.5, 171. , 172.5, 174. ,\n",
       "       175.5, 177. , 178.5, 180. , 181.5, 183. , 184.5, 186. , 187.5,\n",
       "       189. , 190.5, 192. , 193.5, 195. , 196.5, 198. , 199.5, 201. ,\n",
       "       202.5, 204. , 205.5, 207. , 208.5, 210. , 211.5, 213. , 214.5,\n",
       "       216. , 217.5, 219. , 220.5, 222. , 223.5, 225. , 226.5, 228. ,\n",
       "       229.5, 231. , 232.5, 234. , 235.5, 237. , 238.5, 240. , 241.5,\n",
       "       243. , 244.5, 246. , 247.5, 249. , 250.5, 252. , 253.5, 255. ,\n",
       "       256.5, 258. , 259.5, 261. , 262.5, 264. , 265.5, 267. , 268.5,\n",
       "       270. , 271.5, 273. , 274.5, 276. , 277.5, 279. , 280.5, 282. ,\n",
       "       283.5, 285. , 286.5, 288. , 289.5, 291. , 292.5, 294. , 295.5,\n",
       "       297. , 298.5, 300. , 301.5, 303. , 304.5, 306. , 307.5, 309. ,\n",
       "       310.5, 312. , 313.5, 315. , 316.5, 318. , 319.5, 321. , 322.5,\n",
       "       324. , 325.5, 327. , 328.5, 330. , 331.5, 333. , 334.5, 336. ,\n",
       "       337.5, 339. , 340.5, 342. , 343.5, 345. , 346.5, 348. , 349.5,\n",
       "       351. , 352.5, 354. , 355.5, 357. , 358.5, 360. , 361.5, 363. ,\n",
       "       364.5, 366. , 367.5, 369. , 370.5, 372. , 373.5, 375. , 376.5,\n",
       "       378. , 379.5, 381. , 382.5, 384. , 385.5, 387. , 388.5, 390. ,\n",
       "       391.5, 393. , 394.5, 396. , 397.5, 399. , 400.5, 402. , 403.5,\n",
       "       405. , 406.5, 408. , 409.5, 411. , 412.5, 414. , 415.5, 417. ,\n",
       "       418.5, 420. , 421.5, 423. , 424.5, 426. , 427.5, 429. , 430.5,\n",
       "       432. , 433.5, 435. , 436.5, 438. , 439.5, 441. , 442.5, 444. ,\n",
       "       445.5, 447. , 448.5, 450. , 451.5, 453. , 454.5, 456. , 457.5,\n",
       "       459. , 460.5, 462. , 463.5, 465. , 466.5, 468. , 469.5, 471. ,\n",
       "       472.5, 474. , 475.5, 477. , 478.5, 480. , 481.5, 483. , 484.5,\n",
       "       486. , 487.5, 489. , 490.5, 492. , 493.5, 495. , 496.5, 498. ,\n",
       "       499.5, 501. , 502.5, 504. , 505.5, 507. , 508.5, 510. , 511.5,\n",
       "       513. , 514.5, 516. , 517.5, 519. , 520.5, 522. , 523.5, 525. ,\n",
       "       526.5, 528. , 529.5, 531. , 532.5, 534. , 535.5, 537. , 538.5,\n",
       "       540. , 541.5, 543. , 544.5, 546. , 547.5, 549. , 550.5, 552. ,\n",
       "       553.5, 555. , 556.5, 558. , 559.5, 561. , 562.5, 564. , 565.5,\n",
       "       567. , 568.5, 570. , 571.5, 573. , 574.5, 576. , 577.5, 579. ,\n",
       "       580.5, 582. , 583.5, 585. , 586.5, 588. , 589.5, 591. , 592.5,\n",
       "       594. , 595.5, 597. , 598.5, 600. , 601.5, 603. , 604.5, 606. ,\n",
       "       607.5, 609. , 610.5, 612. , 613.5, 615. , 616.5, 618. , 619.5,\n",
       "       621. , 622.5, 624. , 625.5, 627. , 628.5, 630. , 631.5, 633. ,\n",
       "       634.5, 636. , 637.5, 639. , 640.5, 642. , 643.5, 645. , 646.5,\n",
       "       648. , 649.5, 651. , 652.5, 654. , 655.5, 657. , 658.5, 660. ,\n",
       "       661.5, 663. , 664.5, 666. , 667.5, 669. , 670.5, 672. , 673.5,\n",
       "       675. , 676.5, 678. , 679.5, 681. , 682.5, 684. , 685.5, 687. ,\n",
       "       688.5, 690. , 691.5, 693. , 694.5, 696. , 697.5, 699. , 700.5,\n",
       "       702. , 703.5, 705. , 706.5, 708. , 709.5, 711. , 712.5, 714. ,\n",
       "       715.5, 717. , 718.5, 720. , 721.5, 723. , 724.5, 726. , 727.5,\n",
       "       729. , 730.5, 732. , 733.5, 735. , 736.5, 738. , 739.5, 741. ,\n",
       "       742.5, 744. , 745.5, 747. , 748.5, 750. , 751.5, 753. , 754.5,\n",
       "       756. , 757.5, 759. , 760.5, 762. , 763.5, 765. , 766.5, 768. ,\n",
       "       769.5, 771. , 772.5, 774. , 775.5, 777. , 778.5, 780. , 781.5,\n",
       "       783. , 784.5, 786. , 787.5, 789. , 790.5, 792. , 793.5, 795. ,\n",
       "       796.5, 798. , 799.5, 801. , 802.5, 804. , 805.5, 807. , 808.5,\n",
       "       810. , 811.5, 813. , 814.5, 816. , 817.5, 819. , 820.5, 822. ,\n",
       "       823.5, 825. , 826.5, 828. , 829.5, 831. , 832.5, 834. , 835.5,\n",
       "       837. , 838.5, 840. , 841.5, 843. , 844.5, 846. , 847.5, 849. ,\n",
       "       850.5, 852. , 853.5, 855. , 856.5, 858. , 859.5, 861. , 862.5,\n",
       "       864. , 865.5, 867. , 868.5, 870. , 871.5, 873. , 874.5, 876. ,\n",
       "       877.5, 879. , 880.5, 882. , 883.5, 885. , 886.5, 888. , 889.5,\n",
       "       891. , 892.5, 894. , 895.5, 897. , 898.5, 900. , 901.5, 903. ,\n",
       "       904.5, 906. , 907.5, 909. , 910.5, 912. , 913.5, 915. , 916.5,\n",
       "       918. , 919.5, 921. , 922.5, 924. , 925.5, 927. , 928.5, 930. ,\n",
       "       931.5, 933. , 934.5, 936. , 937.5, 939. , 940.5, 942. , 943.5,\n",
       "       945. , 946.5, 948. , 949.5, 951. , 952.5, 954. , 955.5, 957. ,\n",
       "       958.5, 960. , 961.5, 963. , 964.5, 966. , 967.5, 969. , 970.5,\n",
       "       972. , 973.5, 975. , 976.5, 978. , 979.5, 981. , 982.5, 984. ,\n",
       "       985.5, 987. , 988.5, 990. , 991.5, 993. , 994.5, 996. , 997.5,\n",
       "       999. ])"
      ]
     },
     "execution_count": 16,
     "metadata": {},
     "output_type": "execute_result"
    }
   ],
   "source": [
    "np.arange(0, 1000, 1.5)"
   ]
  },
  {
   "cell_type": "code",
   "execution_count": 17,
   "id": "2d0990bf",
   "metadata": {},
   "outputs": [
    {
     "data": {
      "text/plain": [
       "array([ 0.,  2.,  4.,  6.,  8., 10.])"
      ]
     },
     "execution_count": 17,
     "metadata": {},
     "output_type": "execute_result"
    }
   ],
   "source": [
    "np.linspace(0, 10, 6)"
   ]
  },
  {
   "cell_type": "code",
   "execution_count": 20,
   "id": "6f0f35b6",
   "metadata": {},
   "outputs": [
    {
     "data": {
      "text/plain": [
       "array([[ 4.13909276, 25.98822165, 53.3169962 , 36.01409215, 37.849804  ,\n",
       "        23.20313291],\n",
       "       [24.09929333, 25.2434696 , 22.2931398 , 20.54154999, 21.01445453,\n",
       "        23.54503537],\n",
       "       [18.04107612, 37.48177521, 19.36477612, 13.92817057, 21.64521988,\n",
       "        31.45417425],\n",
       "       [24.76652833, 10.97649192, 27.87137802, 28.64309701, 44.07243339,\n",
       "        21.86047154],\n",
       "       [27.87636455, 27.00511314,  7.63006377, 15.35649691, 27.2026498 ,\n",
       "        12.5148136 ]])"
      ]
     },
     "execution_count": 20,
     "metadata": {},
     "output_type": "execute_result"
    }
   ],
   "source": [
    "np.random.normal(25, 12, (5,6))"
   ]
  },
  {
   "cell_type": "code",
   "execution_count": 21,
   "id": "ee86cc87",
   "metadata": {},
   "outputs": [
    {
     "data": {
      "text/plain": [
       "array([[56, 70, 38],\n",
       "       [49, 92, 49],\n",
       "       [89, 68, 78]])"
      ]
     },
     "execution_count": 21,
     "metadata": {},
     "output_type": "execute_result"
    }
   ],
   "source": [
    "np.random.randint(0,100,(3,3))"
   ]
  },
  {
   "cell_type": "code",
   "execution_count": 22,
   "id": "c1ebb2a8",
   "metadata": {},
   "outputs": [
    {
     "data": {
      "text/plain": [
       "array([[1., 0., 0., 0.],\n",
       "       [0., 1., 0., 0.],\n",
       "       [0., 0., 1., 0.],\n",
       "       [0., 0., 0., 1.]])"
      ]
     },
     "execution_count": 22,
     "metadata": {},
     "output_type": "execute_result"
    }
   ],
   "source": [
    "np.eye(4)"
   ]
  },
  {
   "cell_type": "markdown",
   "id": "9e10a526",
   "metadata": {},
   "source": [
    "#Numpy Array Attributes\n",
    "We’ll use\n",
    "NumPy’s random number generator, which we will seed with a set value in order to\n",
    "ensure that the same random arrays are generated each time this code is run:"
   ]
  },
  {
   "cell_type": "code",
   "execution_count": 27,
   "id": "1ddf04ee",
   "metadata": {},
   "outputs": [],
   "source": [
    "np.random.seed(0) #seed for reproducibility\n",
    "x1 = np.random.randint(10, size=6) #one-dimensional array\n",
    "x2 = np.random.randint(10, size = (3, 4)) #2D array\n",
    "x3 = np.random.randint(10, size = (3, 4, 5)) #3D array"
   ]
  },
  {
   "cell_type": "code",
   "execution_count": 28,
   "id": "16ee35da",
   "metadata": {
    "scrolled": true
   },
   "outputs": [
    {
     "name": "stdout",
     "output_type": "stream",
     "text": [
      "x3 ndim:  3\n",
      "x3 shape: (3, 4, 5)\n",
      "x3 size:  60\n"
     ]
    }
   ],
   "source": [
    "print(\"x3 ndim: \", x3.ndim)\n",
    "print(\"x3 shape:\", x3.shape)\n",
    "print(\"x3 size: \", x3.size)\n"
   ]
  },
  {
   "cell_type": "code",
   "execution_count": 29,
   "id": "d9251dd9",
   "metadata": {},
   "outputs": [
    {
     "name": "stdout",
     "output_type": "stream",
     "text": [
      "dtype:  int32\n"
     ]
    }
   ],
   "source": [
    "print(\"dtype: \", x3.dtype)"
   ]
  },
  {
   "cell_type": "code",
   "execution_count": 30,
   "id": "b7190747",
   "metadata": {},
   "outputs": [
    {
     "name": "stdout",
     "output_type": "stream",
     "text": [
      "Item Size:  4 bytes\n",
      "nbytes:  240 bytes\n"
     ]
    }
   ],
   "source": [
    "print(\"Item Size: \", x3.itemsize, \"bytes\") #lists the size of each array element\n",
    "print(\"nbytes: \", x3.nbytes, \"bytes\") #nbytes lists the total size of the array"
   ]
  },
  {
   "cell_type": "markdown",
   "id": "9b1bb437",
   "metadata": {},
   "source": [
    "In a multidimensional array, you access items using a comma-separated tuple of\n",
    "indices:"
   ]
  },
  {
   "cell_type": "code",
   "execution_count": 31,
   "id": "119cf92a",
   "metadata": {},
   "outputs": [
    {
     "data": {
      "text/plain": [
       "3"
      ]
     },
     "execution_count": 31,
     "metadata": {},
     "output_type": "execute_result"
    }
   ],
   "source": [
    "x2[0,0]"
   ]
  },
  {
   "cell_type": "markdown",
   "id": "c1c633bd",
   "metadata": {},
   "source": [
    "You can also modify values using any of the above index notation:\n"
   ]
  },
  {
   "cell_type": "code",
   "execution_count": 32,
   "id": "ff2972c1",
   "metadata": {},
   "outputs": [
    {
     "data": {
      "text/plain": [
       "array([[12,  5,  2,  4],\n",
       "       [ 7,  6,  8,  8],\n",
       "       [ 1,  6,  7,  7]])"
      ]
     },
     "execution_count": 32,
     "metadata": {},
     "output_type": "execute_result"
    }
   ],
   "source": [
    "x2[0,0] = 12\n",
    "x2"
   ]
  },
  {
   "cell_type": "markdown",
   "id": "5a6049c8",
   "metadata": {},
   "source": [
    "Keep in mind that, unlike Python lists, NumPy arrays have a fixed type. This means,\n",
    "for example, that if you attempt to insert a floating-point value to an integer array, the\n",
    "value will be silently truncated. Don’t be caught unaware by this behavior!"
   ]
  },
  {
   "cell_type": "markdown",
   "id": "041757d4",
   "metadata": {},
   "source": [
    "# Array Slicing: Accessing Subarrays"
   ]
  },
  {
   "cell_type": "code",
   "execution_count": 33,
   "id": "9baaed84",
   "metadata": {},
   "outputs": [
    {
     "data": {
      "text/plain": [
       "array([0, 1, 2, 3, 4, 5, 6, 7, 8, 9])"
      ]
     },
     "execution_count": 33,
     "metadata": {},
     "output_type": "execute_result"
    }
   ],
   "source": [
    "# One-dimensionsal subarrays\n",
    "x=np.arange(10)\n",
    "x"
   ]
  },
  {
   "cell_type": "code",
   "execution_count": 34,
   "id": "ee56ac79",
   "metadata": {},
   "outputs": [
    {
     "data": {
      "text/plain": [
       "5"
      ]
     },
     "execution_count": 34,
     "metadata": {},
     "output_type": "execute_result"
    }
   ],
   "source": [
    "x[5]"
   ]
  },
  {
   "cell_type": "code",
   "execution_count": 36,
   "id": "45a40102",
   "metadata": {},
   "outputs": [
    {
     "data": {
      "text/plain": [
       "array([0, 1, 2, 3, 4])"
      ]
     },
     "execution_count": 36,
     "metadata": {},
     "output_type": "execute_result"
    }
   ],
   "source": [
    "x[:5]#the first five elements"
   ]
  },
  {
   "cell_type": "code",
   "execution_count": 35,
   "id": "c030a5a7",
   "metadata": {},
   "outputs": [
    {
     "data": {
      "text/plain": [
       "array([5, 6, 7, 8, 9])"
      ]
     },
     "execution_count": 35,
     "metadata": {},
     "output_type": "execute_result"
    }
   ],
   "source": [
    "x[5:]#the elements after index 5"
   ]
  },
  {
   "cell_type": "code",
   "execution_count": 37,
   "id": "05f12bac",
   "metadata": {},
   "outputs": [
    {
     "data": {
      "text/plain": [
       "array([4, 5, 6])"
      ]
     },
     "execution_count": 37,
     "metadata": {},
     "output_type": "execute_result"
    }
   ],
   "source": [
    "x[4:7]#middle subbarray"
   ]
  },
  {
   "cell_type": "code",
   "execution_count": 38,
   "id": "dd863e3b",
   "metadata": {},
   "outputs": [
    {
     "data": {
      "text/plain": [
       "array([0, 2, 4, 6, 8])"
      ]
     },
     "execution_count": 38,
     "metadata": {},
     "output_type": "execute_result"
    }
   ],
   "source": [
    "x[::2] #every other element"
   ]
  },
  {
   "cell_type": "code",
   "execution_count": 39,
   "id": "75db87bc",
   "metadata": {},
   "outputs": [
    {
     "data": {
      "text/plain": [
       "array([1, 3, 5, 7, 9])"
      ]
     },
     "execution_count": 39,
     "metadata": {},
     "output_type": "execute_result"
    }
   ],
   "source": [
    "x[1::2] #every other element, starting at index 1"
   ]
  },
  {
   "cell_type": "markdown",
   "id": "8481b88f",
   "metadata": {},
   "source": [
    "A potentially confusing case is when the step value is negative. In this case, the defaults for start and stop are swapped. This becomes a convenient way to reverse\n",
    "an array:"
   ]
  },
  {
   "cell_type": "code",
   "execution_count": 40,
   "id": "f923f8b8",
   "metadata": {},
   "outputs": [
    {
     "data": {
      "text/plain": [
       "array([9, 8, 7, 6, 5, 4, 3, 2, 1, 0])"
      ]
     },
     "execution_count": 40,
     "metadata": {},
     "output_type": "execute_result"
    }
   ],
   "source": [
    "x[::-1]#all elements reversed"
   ]
  },
  {
   "cell_type": "code",
   "execution_count": 41,
   "id": "f3520c6e",
   "metadata": {},
   "outputs": [
    {
     "data": {
      "text/plain": [
       "array([5, 3, 1])"
      ]
     },
     "execution_count": 41,
     "metadata": {},
     "output_type": "execute_result"
    }
   ],
   "source": [
    "x[5::-2] #reversed every other from index 5"
   ]
  },
  {
   "cell_type": "code",
   "execution_count": 42,
   "id": "f096a57d",
   "metadata": {},
   "outputs": [
    {
     "data": {
      "text/plain": [
       "array([[12,  5,  2,  4],\n",
       "       [ 7,  6,  8,  8],\n",
       "       [ 1,  6,  7,  7]])"
      ]
     },
     "execution_count": 42,
     "metadata": {},
     "output_type": "execute_result"
    }
   ],
   "source": [
    "#Multidimensional subarrays\n",
    "x2"
   ]
  },
  {
   "cell_type": "code",
   "execution_count": 43,
   "id": "3ad506a3",
   "metadata": {},
   "outputs": [
    {
     "data": {
      "text/plain": [
       "array([[12,  5,  2],\n",
       "       [ 7,  6,  8]])"
      ]
     },
     "execution_count": 43,
     "metadata": {},
     "output_type": "execute_result"
    }
   ],
   "source": [
    "x2[:2, :3] #two rows, three columns"
   ]
  },
  {
   "cell_type": "code",
   "execution_count": 44,
   "id": "1412b32d",
   "metadata": {},
   "outputs": [
    {
     "data": {
      "text/plain": [
       "array([[12,  2],\n",
       "       [ 7,  8],\n",
       "       [ 1,  7]])"
      ]
     },
     "execution_count": 44,
     "metadata": {},
     "output_type": "execute_result"
    }
   ],
   "source": [
    "x2[:3, ::2] #all rows, every other column"
   ]
  },
  {
   "cell_type": "markdown",
   "id": "9c478717",
   "metadata": {},
   "source": [
    "subarray dimensions can even be reversed together:"
   ]
  },
  {
   "cell_type": "code",
   "execution_count": 45,
   "id": "274f17b9",
   "metadata": {},
   "outputs": [
    {
     "data": {
      "text/plain": [
       "array([[ 7,  7,  6,  1],\n",
       "       [ 8,  8,  6,  7],\n",
       "       [ 4,  2,  5, 12]])"
      ]
     },
     "execution_count": 45,
     "metadata": {},
     "output_type": "execute_result"
    }
   ],
   "source": [
    "x2[::-1, ::-1]"
   ]
  },
  {
   "cell_type": "code",
   "execution_count": 46,
   "id": "86600ece",
   "metadata": {},
   "outputs": [
    {
     "name": "stdout",
     "output_type": "stream",
     "text": [
      "[12  7  1]\n"
     ]
    }
   ],
   "source": [
    "#Acessing array rows and columns\n",
    "#You can do this by combining indexing and slicing,using an empty slice marked by a single colon (:):\n",
    "print(x2[:, 0]) #first column of x2"
   ]
  },
  {
   "cell_type": "code",
   "execution_count": 47,
   "id": "ff42aba5",
   "metadata": {},
   "outputs": [
    {
     "name": "stdout",
     "output_type": "stream",
     "text": [
      "[12  5  2  4]\n"
     ]
    }
   ],
   "source": [
    "print(x2[0, :]) #first row of x2"
   ]
  },
  {
   "cell_type": "code",
   "execution_count": 48,
   "id": "a691c62c",
   "metadata": {},
   "outputs": [
    {
     "name": "stdout",
     "output_type": "stream",
     "text": [
      "[12  5  2  4]\n"
     ]
    }
   ],
   "source": [
    "print(x2[0]) # equivalent to x2[0, :] but more compact"
   ]
  },
  {
   "cell_type": "markdown",
   "id": "d19498f9",
   "metadata": {},
   "source": [
    "# Subarrays as no-copy views"
   ]
  },
  {
   "cell_type": "code",
   "execution_count": 49,
   "id": "52089ae1",
   "metadata": {},
   "outputs": [
    {
     "name": "stdout",
     "output_type": "stream",
     "text": [
      "[[12  5  2  4]\n",
      " [ 7  6  8  8]\n",
      " [ 1  6  7  7]]\n"
     ]
    }
   ],
   "source": [
    "print(x2)"
   ]
  },
  {
   "cell_type": "code",
   "execution_count": 51,
   "id": "1807ab1a",
   "metadata": {},
   "outputs": [
    {
     "name": "stdout",
     "output_type": "stream",
     "text": [
      "[[12  5]\n",
      " [ 7  6]]\n"
     ]
    }
   ],
   "source": [
    "x2_sub = x2[:2, :2] #extracting a 2X2 subarray\n",
    "print(x2_sub)"
   ]
  },
  {
   "cell_type": "markdown",
   "id": "f3f9f3bb",
   "metadata": {},
   "source": [
    "#if we modify this subarray, we’ll see that the original array is changed! Observe:"
   ]
  },
  {
   "cell_type": "code",
   "execution_count": 52,
   "id": "4a541d0a",
   "metadata": {},
   "outputs": [
    {
     "name": "stdout",
     "output_type": "stream",
     "text": [
      "[[99  5]\n",
      " [ 7  6]]\n"
     ]
    }
   ],
   "source": [
    "x2_sub[0,0] = 99\n",
    "print(x2_sub)"
   ]
  },
  {
   "cell_type": "code",
   "execution_count": 53,
   "id": "9ccb2e36",
   "metadata": {},
   "outputs": [
    {
     "name": "stdout",
     "output_type": "stream",
     "text": [
      "[[99  5  2  4]\n",
      " [ 7  6  8  8]\n",
      " [ 1  6  7  7]]\n"
     ]
    }
   ],
   "source": [
    "print(x2)"
   ]
  },
  {
   "cell_type": "markdown",
   "id": "02569a2e",
   "metadata": {},
   "source": [
    "This default behavior is actually quite useful: it means that when we work with large datasets, we can access and process pieces of these datasets without the need to copy the underlying data buffer."
   ]
  },
  {
   "cell_type": "code",
   "execution_count": 54,
   "id": "f3a855a8",
   "metadata": {},
   "outputs": [
    {
     "name": "stdout",
     "output_type": "stream",
     "text": [
      "[[99  5]\n",
      " [ 7  6]]\n"
     ]
    }
   ],
   "source": [
    "#Creating copies of arrays\n",
    "x2_sub_copy = x2[:2, :2].copy()\n",
    "print(x2_sub_copy)"
   ]
  },
  {
   "cell_type": "code",
   "execution_count": 55,
   "id": "32856623",
   "metadata": {},
   "outputs": [
    {
     "name": "stdout",
     "output_type": "stream",
     "text": [
      "[[42  5]\n",
      " [ 7  6]]\n"
     ]
    }
   ],
   "source": [
    "#If we now modify this subarray, the original array is not touched\n",
    "x2_sub_copy[0,0] = 42\n",
    "print(x2_sub_copy)"
   ]
  },
  {
   "cell_type": "code",
   "execution_count": 56,
   "id": "25bbf9e7",
   "metadata": {},
   "outputs": [
    {
     "name": "stdout",
     "output_type": "stream",
     "text": [
      "[[99  5  2  4]\n",
      " [ 7  6  8  8]\n",
      " [ 1  6  7  7]]\n"
     ]
    }
   ],
   "source": [
    "print(x2)"
   ]
  },
  {
   "cell_type": "markdown",
   "id": "e25c7377",
   "metadata": {},
   "source": [
    "#Reshaping Arrays\n",
    "#if you want to put the num‐bers 1 through 9 in a 3×3 grid, you can do the following:"
   ]
  },
  {
   "cell_type": "code",
   "execution_count": 57,
   "id": "e988c4aa",
   "metadata": {},
   "outputs": [
    {
     "name": "stdout",
     "output_type": "stream",
     "text": [
      "[[1 2 3]\n",
      " [4 5 6]\n",
      " [7 8 9]]\n"
     ]
    }
   ],
   "source": [
    "grid = np.arange(1, 10).reshape((3,3))\n",
    "print(grid)"
   ]
  },
  {
   "cell_type": "markdown",
   "id": "f27be81c",
   "metadata": {},
   "source": [
    "conversion of a one-dimensional array into a two-dimensional row or column matrix."
   ]
  },
  {
   "cell_type": "code",
   "execution_count": 59,
   "id": "cbbbede0",
   "metadata": {},
   "outputs": [
    {
     "data": {
      "text/plain": [
       "array([[1, 2, 3]])"
      ]
     },
     "execution_count": 59,
     "metadata": {},
     "output_type": "execute_result"
    }
   ],
   "source": [
    "x = np.array([1,2,3])\n",
    "x.reshape((1,3)) #row vector via reshape"
   ]
  },
  {
   "cell_type": "code",
   "execution_count": 60,
   "id": "dad065f5",
   "metadata": {},
   "outputs": [
    {
     "data": {
      "text/plain": [
       "array([[1, 2, 3]])"
      ]
     },
     "execution_count": 60,
     "metadata": {},
     "output_type": "execute_result"
    }
   ],
   "source": [
    "x[np.newaxis, :] #row vector via newaxis"
   ]
  },
  {
   "cell_type": "code",
   "execution_count": 61,
   "id": "ce29aa5b",
   "metadata": {},
   "outputs": [
    {
     "data": {
      "text/plain": [
       "array([[1],\n",
       "       [2],\n",
       "       [3]])"
      ]
     },
     "execution_count": 61,
     "metadata": {},
     "output_type": "execute_result"
    }
   ],
   "source": [
    "x.reshape((3, 1)) # column vector via reshape"
   ]
  },
  {
   "cell_type": "code",
   "execution_count": 62,
   "id": "c7348455",
   "metadata": {},
   "outputs": [
    {
     "data": {
      "text/plain": [
       "array([[1],\n",
       "       [2],\n",
       "       [3]])"
      ]
     },
     "execution_count": 62,
     "metadata": {},
     "output_type": "execute_result"
    }
   ],
   "source": [
    "x[:, np.newaxis] #column vector via newaxis"
   ]
  },
  {
   "cell_type": "markdown",
   "id": "829e0bf3",
   "metadata": {},
   "source": [
    "# Concatenation of Arrays"
   ]
  },
  {
   "cell_type": "code",
   "execution_count": 63,
   "id": "26563f2a",
   "metadata": {},
   "outputs": [
    {
     "data": {
      "text/plain": [
       "array([1, 2, 3, 4, 5, 6])"
      ]
     },
     "execution_count": 63,
     "metadata": {},
     "output_type": "execute_result"
    }
   ],
   "source": [
    "#np.concatenate takes a tuple or list of arrays as its first argument, as we can see here:\n",
    "x=np.array([1,2,3])\n",
    "y=np.array([4,5,6])\n",
    "np.concatenate([x,y])"
   ]
  },
  {
   "cell_type": "code",
   "execution_count": 64,
   "id": "c984d44d",
   "metadata": {},
   "outputs": [
    {
     "name": "stdout",
     "output_type": "stream",
     "text": [
      "[ 1  2  3  4  5  6 45 55 65]\n"
     ]
    }
   ],
   "source": [
    "#Concatenating more than two arrays at once\n",
    "z=[45,55,65]\n",
    "print(np.concatenate([x,y,z]))"
   ]
  },
  {
   "cell_type": "code",
   "execution_count": 65,
   "id": "d265b8d4",
   "metadata": {},
   "outputs": [
    {
     "data": {
      "text/plain": [
       "array([[1, 2, 3],\n",
       "       [4, 5, 6],\n",
       "       [1, 2, 3],\n",
       "       [4, 5, 6]])"
      ]
     },
     "execution_count": 65,
     "metadata": {},
     "output_type": "execute_result"
    }
   ],
   "source": [
    "#two dimensional arrays\n",
    "grid = np.array([[1,2,3], [4,5,6]])\n",
    "#concatenate along the first axis\n",
    "np.concatenate([grid, grid])"
   ]
  },
  {
   "cell_type": "code",
   "execution_count": 66,
   "id": "eb00649c",
   "metadata": {},
   "outputs": [
    {
     "data": {
      "text/plain": [
       "array([[1, 2, 3, 1, 2, 3],\n",
       "       [4, 5, 6, 4, 5, 6]])"
      ]
     },
     "execution_count": 66,
     "metadata": {},
     "output_type": "execute_result"
    }
   ],
   "source": [
    "#concatenate along the second axis zero indexed\n",
    "np.concatenate([grid, grid], axis=1)"
   ]
  },
  {
   "cell_type": "markdown",
   "id": "66e9fa65",
   "metadata": {},
   "source": [
    "For working with arrays of mixed dimensions, it can be clearer to use the np.vstack\n",
    "(vertical stack) and np.hstack (horizontal stack) functions:\n"
   ]
  },
  {
   "cell_type": "code",
   "execution_count": 68,
   "id": "b3275a7f",
   "metadata": {},
   "outputs": [
    {
     "data": {
      "text/plain": [
       "array([[1, 2, 3],\n",
       "       [9, 5, 4],\n",
       "       [5, 3, 8]])"
      ]
     },
     "execution_count": 68,
     "metadata": {},
     "output_type": "execute_result"
    }
   ],
   "source": [
    "x = np.array([1,2,3])\n",
    "grid = np.array([[9,5,4],\n",
    "               [5,3,8]])\n",
    "#vertically stack the arrays\n",
    "np.vstack([x, grid])"
   ]
  },
  {
   "cell_type": "code",
   "execution_count": 69,
   "id": "58be7a7d",
   "metadata": {},
   "outputs": [
    {
     "data": {
      "text/plain": [
       "array([[ 9,  5,  4, 99],\n",
       "       [ 5,  3,  8, 99]])"
      ]
     },
     "execution_count": 69,
     "metadata": {},
     "output_type": "execute_result"
    }
   ],
   "source": [
    "#horizontally stack the arrays\n",
    "y = np.array([[99],[99]])\n",
    "np.hstack([grid, y])"
   ]
  },
  {
   "cell_type": "markdown",
   "id": "be80a25e",
   "metadata": {},
   "source": [
    "Similarly, np.dstack will stack arrays along the third axis."
   ]
  },
  {
   "cell_type": "markdown",
   "id": "6c0c4120",
   "metadata": {},
   "source": [
    "# Splitting of Arrays"
   ]
  },
  {
   "cell_type": "code",
   "execution_count": 70,
   "id": "70d101bf",
   "metadata": {},
   "outputs": [
    {
     "name": "stdout",
     "output_type": "stream",
     "text": [
      "[1 2 3] [99 49] [59 50 68]\n"
     ]
    }
   ],
   "source": [
    "x = [1, 2, 3, 99, 49, 59, 50, 68]\n",
    "x1, x2, x3 = np.split(x, [3,5])\n",
    "print(x1, x2, x3)"
   ]
  },
  {
   "cell_type": "markdown",
   "id": "af1f08ed",
   "metadata": {},
   "source": [
    "Notice that N split points lead to N + 1 subarrays."
   ]
  },
  {
   "cell_type": "code",
   "execution_count": 72,
   "id": "a8e010a1",
   "metadata": {},
   "outputs": [
    {
     "data": {
      "text/plain": [
       "array([[ 0,  1,  2,  3],\n",
       "       [ 4,  5,  6,  7],\n",
       "       [ 8,  9, 10, 11],\n",
       "       [12, 13, 14, 15]])"
      ]
     },
     "execution_count": 72,
     "metadata": {},
     "output_type": "execute_result"
    }
   ],
   "source": [
    "#The related functions np.hsplit and np.vsplit are similar\n",
    "grid = np.arange(16).reshape((4,4))\n",
    "grid"
   ]
  },
  {
   "cell_type": "code",
   "execution_count": 74,
   "id": "09528312",
   "metadata": {},
   "outputs": [
    {
     "name": "stdout",
     "output_type": "stream",
     "text": [
      "[[0 1 2 3]\n",
      " [4 5 6 7]]\n",
      "[[ 8  9 10 11]\n",
      " [12 13 14 15]]\n"
     ]
    }
   ],
   "source": [
    "upper, lower = np.vsplit(grid, [2])\n",
    "print(upper) \n",
    "print(lower)"
   ]
  },
  {
   "cell_type": "code",
   "execution_count": 75,
   "id": "07f34fc5",
   "metadata": {},
   "outputs": [
    {
     "name": "stdout",
     "output_type": "stream",
     "text": [
      "[[ 0  1]\n",
      " [ 4  5]\n",
      " [ 8  9]\n",
      " [12 13]]\n",
      "[[ 2  3]\n",
      " [ 6  7]\n",
      " [10 11]\n",
      " [14 15]]\n"
     ]
    }
   ],
   "source": [
    "left, right = np.hsplit(grid, [2])\n",
    "print(left)\n",
    "print(right)"
   ]
  },
  {
   "cell_type": "markdown",
   "id": "8f68aa93",
   "metadata": {},
   "source": [
    "Similarly, np.dsplit will split arrays along the third axis"
   ]
  },
  {
   "cell_type": "markdown",
   "id": "7b900dea",
   "metadata": {},
   "source": [
    "# Computation on NumPy Arrays: Universal Functions"
   ]
  },
  {
   "cell_type": "code",
   "execution_count": 77,
   "id": "f6b152ff",
   "metadata": {},
   "outputs": [
    {
     "data": {
      "text/plain": [
       "array([0.16666667, 1.        , 0.25      , 0.25      , 0.125     ])"
      ]
     },
     "execution_count": 77,
     "metadata": {},
     "output_type": "execute_result"
    }
   ],
   "source": [
    "np.random.seed(0)\n",
    "def compute_reciprocals(values):\n",
    "    output = np.empty(len(values))\n",
    "    for i in range(len(values)):\n",
    "        output[i] = 1.0 / values[i]\n",
    "    return output\n",
    "\n",
    "values = np.random.randint(1, 10, size=5)\n",
    "compute_reciprocals(values)"
   ]
  },
  {
   "cell_type": "code",
   "execution_count": 79,
   "id": "1169bad2",
   "metadata": {},
   "outputs": [
    {
     "name": "stdout",
     "output_type": "stream",
     "text": [
      "1.67 s ± 23.5 ms per loop (mean ± std. dev. of 7 runs, 1 loop each)\n"
     ]
    }
   ],
   "source": [
    " big_array = np.random.randint(1, 100, size=1000000)\n",
    " %timeit compute_reciprocals(big_array) #measuring the execution time for large input"
   ]
  },
  {
   "cell_type": "markdown",
   "id": "34163c16",
   "metadata": {},
   "source": [
    "It takes several seconds to compute these million operations and to store the result!\n",
    "When even cell phones have processing speeds measured in Giga-FLOPS (i.e., bil‐lions of numerical operations per second), this seems almost absurdly slow. It turns out that the bottleneck here is not the operations themselves, but the type-checking and function dispatches that CPython must do at each cycle of the loop. Each time the reciprocal is computed, Python first examines the object’s type and does a dynamic lookup of the correct function to use for that type. If we were working in compiled code instead, this type specification would be known before the code exe‐cutes and the result could be computed much more efficiently"
   ]
  },
  {
   "cell_type": "markdown",
   "id": "9144fc79",
   "metadata": {},
   "source": [
    "# Introducing Ufuncs"
   ]
  },
  {
   "cell_type": "code",
   "execution_count": 80,
   "id": "79a290a6",
   "metadata": {},
   "outputs": [
    {
     "name": "stdout",
     "output_type": "stream",
     "text": [
      "[0.16666667 1.         0.25       0.25       0.125     ]\n",
      "[0.16666667 1.         0.25       0.25       0.125     ]\n"
     ]
    }
   ],
   "source": [
    "#compare the results of the following two:\n",
    "print(compute_reciprocals(values))\n",
    "print(1.0/values)"
   ]
  },
  {
   "cell_type": "markdown",
   "id": "a7712d4b",
   "metadata": {},
   "source": [
    "Vectorized operations in NumPy are implemented via ufuncs, whose main purpose is to quickly execute repeated operations on values in NumPy arrays. Ufuncs are extremely flexible—before we saw an operation between a scalar and an array, but we can also operate between two arrays:"
   ]
  },
  {
   "cell_type": "code",
   "execution_count": 82,
   "id": "e147966a",
   "metadata": {},
   "outputs": [
    {
     "data": {
      "text/plain": [
       "array([0.        , 0.5       , 0.66666667, 0.75      , 0.8       ])"
      ]
     },
     "execution_count": 82,
     "metadata": {},
     "output_type": "execute_result"
    }
   ],
   "source": [
    "np.arange(5)/np.arange(1,6)"
   ]
  },
  {
   "cell_type": "markdown",
   "id": "0e02ef9e",
   "metadata": {},
   "source": [
    "ufunc operations are not limited to one-dimensional arrays—they can act on multidimensional arrays as well"
   ]
  },
  {
   "cell_type": "code",
   "execution_count": 85,
   "id": "b3ec88d8",
   "metadata": {},
   "outputs": [
    {
     "data": {
      "text/plain": [
       "array([[  1,   2,   4],\n",
       "       [  8,  16,  32],\n",
       "       [ 64, 128, 256]], dtype=int32)"
      ]
     },
     "execution_count": 85,
     "metadata": {},
     "output_type": "execute_result"
    }
   ],
   "source": [
    "x = np.arange(9).reshape((3,3))\n",
    "2 ** x"
   ]
  },
  {
   "cell_type": "markdown",
   "id": "d6ba9166",
   "metadata": {},
   "source": [
    "# Array Arithmetic"
   ]
  },
  {
   "cell_type": "code",
   "execution_count": 86,
   "id": "3379aa5b",
   "metadata": {},
   "outputs": [
    {
     "name": "stdout",
     "output_type": "stream",
     "text": [
      "x = [0 1 2 3]\n",
      "x + 5 = [5 6 7 8]\n",
      "x - 5 = [-5 -4 -3 -2]\n",
      "x * 2 = [0 2 4 6]\n",
      "x/2 =  [0.  0.5 1.  1.5]\n",
      "x//2 =  [0 0 1 1]\n"
     ]
    }
   ],
   "source": [
    "x = np.arange(4)\n",
    "print(\"x =\", x)\n",
    "print(\"x + 5 =\", x + 5)\n",
    "print(\"x - 5 =\", x - 5)\n",
    "print(\"x * 2 =\", x * 2)\n",
    "print(\"x/2 = \", x/2)\n",
    "print(\"x//2 = \", x//2) #floor division"
   ]
  },
  {
   "cell_type": "markdown",
   "id": "e0bc0b47",
   "metadata": {},
   "source": [
    "There is also a unary ufunc for negation, a ** operator for exponentiation, and a % operator for modulus:"
   ]
  },
  {
   "cell_type": "code",
   "execution_count": 87,
   "id": "28580ec9",
   "metadata": {},
   "outputs": [
    {
     "name": "stdout",
     "output_type": "stream",
     "text": [
      "-x =  [ 0 -1 -2 -3]\n",
      "x ** 2 =  [0 1 4 9]\n",
      "x % 2 =  [0 1 0 1]\n"
     ]
    }
   ],
   "source": [
    "print(\"-x = \", -x)\n",
    "print(\"x ** 2 = \", x ** 2)\n",
    "print(\"x % 2 = \", x % 2)"
   ]
  },
  {
   "cell_type": "markdown",
   "id": "f4cb5e5c",
   "metadata": {},
   "source": [
    "these can be strung together however you wish, and the standard order\n",
    "of operations is respected:"
   ]
  },
  {
   "cell_type": "code",
   "execution_count": 89,
   "id": "f00a0c68",
   "metadata": {},
   "outputs": [
    {
     "data": {
      "text/plain": [
       "array([-1.  , -2.25, -4.  , -6.25])"
      ]
     },
     "execution_count": 89,
     "metadata": {},
     "output_type": "execute_result"
    }
   ],
   "source": [
    "-(0.5*x +1)**2"
   ]
  },
  {
   "cell_type": "markdown",
   "id": "91bcacd0",
   "metadata": {},
   "source": [
    "# Absolute value"
   ]
  },
  {
   "cell_type": "markdown",
   "id": "05198006",
   "metadata": {},
   "source": [
    "The corresponding NumPy ufunc is np.absolute, which is also available under the alias np.abs:"
   ]
  },
  {
   "cell_type": "code",
   "execution_count": 90,
   "id": "c0321d08",
   "metadata": {},
   "outputs": [
    {
     "data": {
      "text/plain": [
       "array([2, 1, 0, 1, 2])"
      ]
     },
     "execution_count": 90,
     "metadata": {},
     "output_type": "execute_result"
    }
   ],
   "source": [
    "x = np.array([-2,-1,0,1,2])\n",
    "abs(x)"
   ]
  },
  {
   "cell_type": "code",
   "execution_count": 91,
   "id": "5502baef",
   "metadata": {},
   "outputs": [
    {
     "data": {
      "text/plain": [
       "array([2, 1, 0, 1, 2])"
      ]
     },
     "execution_count": 91,
     "metadata": {},
     "output_type": "execute_result"
    }
   ],
   "source": [
    "np.absolute(x)\n",
    "np.abs(x)"
   ]
  },
  {
   "cell_type": "code",
   "execution_count": 92,
   "id": "40a8d83d",
   "metadata": {},
   "outputs": [
    {
     "data": {
      "text/plain": [
       "array([5., 5., 2., 1.])"
      ]
     },
     "execution_count": 92,
     "metadata": {},
     "output_type": "execute_result"
    }
   ],
   "source": [
    "#Complex data - the absolute value returns the magnitude\n",
    "x = np.array([3-4j, 4-3j, 2+0j, 0+1j])\n",
    "np.abs(x)"
   ]
  },
  {
   "cell_type": "markdown",
   "id": "b6306140",
   "metadata": {},
   "source": [
    "# Trigonometric functions"
   ]
  },
  {
   "cell_type": "code",
   "execution_count": 93,
   "id": "aed2cd73",
   "metadata": {},
   "outputs": [
    {
     "name": "stdout",
     "output_type": "stream",
     "text": [
      "theta    = [0.         1.57079633 3.14159265]\n",
      "sin(theta) = [0.0000000e+00 1.0000000e+00 1.2246468e-16]\n",
      "cos(theta) = [ 1.000000e+00  6.123234e-17 -1.000000e+00]\n",
      "tan(theta) = [ 0.00000000e+00  1.63312394e+16 -1.22464680e-16]\n"
     ]
    }
   ],
   "source": [
    "theta = np.linspace(0, np.pi, 3)\n",
    "print(\"theta    =\", theta)\n",
    "print(\"sin(theta) =\", np.sin(theta))\n",
    "print(\"cos(theta) =\", np.cos(theta))\n",
    "print(\"tan(theta) =\", np.tan(theta))"
   ]
  },
  {
   "cell_type": "markdown",
   "id": "73f79f24",
   "metadata": {},
   "source": [
    "The values are computed to within machine precision, which is why values that should be zero do not always hit exactly zero. Inverse trigonometric functions are also available:"
   ]
  },
  {
   "cell_type": "code",
   "execution_count": 95,
   "id": "f8a7ece5",
   "metadata": {},
   "outputs": [
    {
     "name": "stdout",
     "output_type": "stream",
     "text": [
      "x    = [-1, 0, 1]\n",
      "arcsin(x) = [-1.57079633  0.          1.57079633]\n",
      "arccos(x) = [3.14159265 1.57079633 0.        ]\n",
      "arctan(x) = [-0.78539816  0.          0.78539816]\n"
     ]
    }
   ],
   "source": [
    "x = [-1, 0, 1]\n",
    "print(\"x    =\", x)\n",
    "print(\"arcsin(x) =\", np.arcsin(x))\n",
    "print(\"arccos(x) =\", np.arccos(x))\n",
    "print(\"arctan(x) =\", np.arctan(x))"
   ]
  },
  {
   "cell_type": "markdown",
   "id": "c7220802",
   "metadata": {},
   "source": [
    "# Exponents and logarithms"
   ]
  },
  {
   "cell_type": "code",
   "execution_count": 96,
   "id": "e87b4d42",
   "metadata": {},
   "outputs": [
    {
     "name": "stdout",
     "output_type": "stream",
     "text": [
      "x = [1, 2, 3]\n",
      "e^x = [ 2.71828183  7.3890561  20.08553692]\n",
      "2^x = [2. 4. 8.]\n",
      "3^x = [ 3  9 27]\n"
     ]
    }
   ],
   "source": [
    "x = [1, 2, 3]\n",
    "print(\"x =\", x)\n",
    "print(\"e^x =\", np.exp(x))\n",
    "print(\"2^x =\", np.exp2(x))\n",
    "print(\"3^x =\", np.power(3, x))"
   ]
  },
  {
   "cell_type": "markdown",
   "id": "aba9ec9a",
   "metadata": {},
   "source": [
    "There are also some specialized versions that are useful for maintaining precision with very small input:"
   ]
  },
  {
   "cell_type": "code",
   "execution_count": 97,
   "id": "3ad36985",
   "metadata": {},
   "outputs": [
    {
     "name": "stdout",
     "output_type": "stream",
     "text": [
      "exp(x) - 1 = [0.         0.0010005  0.01005017 0.10517092]\n",
      "log(1 + x) = [0.         0.0009995  0.00995033 0.09531018]\n"
     ]
    }
   ],
   "source": [
    "x = [0, 0.001, 0.01, 0.1]\n",
    "print(\"exp(x) - 1 =\", np.expm1(x))\n",
    "print(\"log(1 + x) =\", np.log1p(x))"
   ]
  },
  {
   "cell_type": "markdown",
   "id": "1bcf03f0",
   "metadata": {},
   "source": [
    "When x is very small, these functions give more precise values than if the raw np.log or np.exp were used."
   ]
  },
  {
   "cell_type": "code",
   "execution_count": 98,
   "id": "872b8be4",
   "metadata": {},
   "outputs": [
    {
     "name": "stdout",
     "output_type": "stream",
     "text": [
      "gamma(x) = [1.0000e+00 2.4000e+01 3.6288e+05]\n",
      "ln|gamma(x)| = [ 0.          3.17805383 12.80182748]\n",
      "beta(x, 2) = [0.5        0.03333333 0.00909091]\n"
     ]
    }
   ],
   "source": [
    "from scipy import special\n",
    "# Gamma functions (generalized factorials) and related functions\n",
    "x = [1, 5, 10]\n",
    "print(\"gamma(x) =\", special.gamma(x))\n",
    "print(\"ln|gamma(x)| =\", special.gammaln(x))\n",
    "print(\"beta(x, 2) =\", special.beta(x, 2))"
   ]
  },
  {
   "cell_type": "code",
   "execution_count": 99,
   "id": "5176960a",
   "metadata": {},
   "outputs": [
    {
     "name": "stdout",
     "output_type": "stream",
     "text": [
      "erf(x) = [0.         0.32862676 0.67780119 0.84270079]\n",
      "erfc(x) = [1.         0.67137324 0.32219881 0.15729921]\n",
      "erfinv(x) = [0.         0.27246271 0.73286908        inf]\n"
     ]
    }
   ],
   "source": [
    "#Error function (integral of Gaussian)\n",
    "#its complement and its inverse\n",
    "x = np.array([0, 0.3, 0.7, 1.0])\n",
    "print(\"erf(x) =\", special.erf(x))\n",
    "print(\"erfc(x) =\", special.erfc(x))\n",
    "print(\"erfinv(x) =\", special.erfinv(x))"
   ]
  },
  {
   "cell_type": "markdown",
   "id": "d6cd88e7",
   "metadata": {},
   "source": [
    "# Advanced Ufunc Features"
   ]
  },
  {
   "cell_type": "code",
   "execution_count": 100,
   "id": "efbad906",
   "metadata": {},
   "outputs": [
    {
     "name": "stdout",
     "output_type": "stream",
     "text": [
      "[ 0. 10. 20. 30. 40.]\n"
     ]
    }
   ],
   "source": [
    "x = np.arange(5)\n",
    "y = np.empty(5)\n",
    "np.multiply(x, 10, out=y)\n",
    "print(y)"
   ]
  },
  {
   "cell_type": "markdown",
   "id": "8beabccc",
   "metadata": {},
   "source": [
    "This can even be used with array views. For example, we can write the results of a computation to every other element of a specified array:"
   ]
  },
  {
   "cell_type": "code",
   "execution_count": 101,
   "id": "f9507ce3",
   "metadata": {},
   "outputs": [
    {
     "name": "stdout",
     "output_type": "stream",
     "text": [
      "[ 1.  0.  2.  0.  4.  0.  8.  0. 16.  0.]\n"
     ]
    }
   ],
   "source": [
    "y = np.zeros(10)\n",
    "np.power(2, x, out=y[::2])\n",
    "print(y)"
   ]
  },
  {
   "cell_type": "markdown",
   "id": "870ecf76",
   "metadata": {},
   "source": [
    "If we had instead written y[::2] = 2 ** x, this would have resulted in the creation of a temporary array to hold the results of 2 ** x, followed by a second operation copying those values into the y array. This doesn’t make much of a difference for such a small computation, but for very large arrays the memory savings from careful use of the out argument can be significant."
   ]
  },
  {
   "cell_type": "markdown",
   "id": "bb2afdc2",
   "metadata": {},
   "source": [
    "# Aggregates"
   ]
  },
  {
   "cell_type": "code",
   "execution_count": 103,
   "id": "6aded7bd",
   "metadata": {},
   "outputs": [
    {
     "data": {
      "text/plain": [
       "15"
      ]
     },
     "execution_count": 103,
     "metadata": {},
     "output_type": "execute_result"
    }
   ],
   "source": [
    "#calling a reduce on add ufunc returns the sum of all elements in the array\n",
    "x = np.arange(1, 6)\n",
    "np.add.reduce(x)"
   ]
  },
  {
   "cell_type": "code",
   "execution_count": 104,
   "id": "b66d4591",
   "metadata": {},
   "outputs": [
    {
     "data": {
      "text/plain": [
       "120"
      ]
     },
     "execution_count": 104,
     "metadata": {},
     "output_type": "execute_result"
    }
   ],
   "source": [
    "#calling reduce on the multiply ufunc results in the product of all array elements:\n",
    "np.multiply.reduce(x)"
   ]
  },
  {
   "cell_type": "code",
   "execution_count": 105,
   "id": "e4725548",
   "metadata": {},
   "outputs": [
    {
     "data": {
      "text/plain": [
       "array([ 1,  3,  6, 10, 15], dtype=int32)"
      ]
     },
     "execution_count": 105,
     "metadata": {},
     "output_type": "execute_result"
    }
   ],
   "source": [
    "#If we’d like to store all the intermediate results of the computation, we can instead use accumulate:\n",
    "np.add.accumulate(x)"
   ]
  },
  {
   "cell_type": "code",
   "execution_count": 106,
   "id": "3eabb0be",
   "metadata": {},
   "outputs": [
    {
     "data": {
      "text/plain": [
       "array([  1,   2,   6,  24, 120], dtype=int32)"
      ]
     },
     "execution_count": 106,
     "metadata": {},
     "output_type": "execute_result"
    }
   ],
   "source": [
    "np.multiply.accumulate(x)"
   ]
  },
  {
   "cell_type": "markdown",
   "id": "9221a600",
   "metadata": {},
   "source": [
    "# Outer Products"
   ]
  },
  {
   "cell_type": "code",
   "execution_count": 108,
   "id": "13b5dc09",
   "metadata": {},
   "outputs": [
    {
     "data": {
      "text/plain": [
       "array([[ 1,  2,  3,  4,  5],\n",
       "       [ 2,  4,  6,  8, 10],\n",
       "       [ 3,  6,  9, 12, 15],\n",
       "       [ 4,  8, 12, 16, 20],\n",
       "       [ 5, 10, 15, 20, 25]])"
      ]
     },
     "execution_count": 108,
     "metadata": {},
     "output_type": "execute_result"
    }
   ],
   "source": [
    "x = np.arange(1, 6)\n",
    "np.multiply.outer(x, x)"
   ]
  },
  {
   "cell_type": "markdown",
   "id": "0f5cab28",
   "metadata": {},
   "source": [
    "# Summing the Values in an Array"
   ]
  },
  {
   "cell_type": "code",
   "execution_count": 109,
   "id": "15480cb3",
   "metadata": {},
   "outputs": [
    {
     "data": {
      "text/plain": [
       "53.979409560219594"
      ]
     },
     "execution_count": 109,
     "metadata": {},
     "output_type": "execute_result"
    }
   ],
   "source": [
    "l = np.random.random(100)\n",
    "sum(l)"
   ]
  },
  {
   "cell_type": "code",
   "execution_count": 110,
   "id": "8d2a2046",
   "metadata": {},
   "outputs": [
    {
     "data": {
      "text/plain": [
       "53.979409560219594"
      ]
     },
     "execution_count": 110,
     "metadata": {},
     "output_type": "execute_result"
    }
   ],
   "source": [
    "#the syntax is quite similar to that of NumPy's sum function and the result is the same in the simplest case\n",
    "np.sum(l)"
   ]
  },
  {
   "cell_type": "code",
   "execution_count": 111,
   "id": "092af1b1",
   "metadata": {},
   "outputs": [
    {
     "name": "stdout",
     "output_type": "stream",
     "text": [
      "21.7 ms ± 1.25 ms per loop (mean ± std. dev. of 7 runs, 10 loops each)\n",
      "147 µs ± 1.75 µs per loop (mean ± std. dev. of 7 runs, 10000 loops each)\n"
     ]
    }
   ],
   "source": [
    "#NumPy's version of the operation is computed much more quickly because it executes the operation in compiled code\n",
    "big_array = np.random.rand(100000)\n",
    "%timeit sum(big_array)\n",
    "%timeit np.sum(big_array)"
   ]
  },
  {
   "cell_type": "markdown",
   "id": "4a440137",
   "metadata": {},
   "source": [
    "Be careful, though: the sum function and the np.sum function are not identical, which can sometimes lead to confusion! In particular, their optional arguments have different meanings, and np.sum is aware of multiple array dimensions."
   ]
  },
  {
   "cell_type": "code",
   "execution_count": 114,
   "id": "5c504be7",
   "metadata": {},
   "outputs": [
    {
     "data": {
      "text/plain": [
       "(3.129521215949893e-06, 0.999995293174921)"
      ]
     },
     "execution_count": 114,
     "metadata": {},
     "output_type": "execute_result"
    }
   ],
   "source": [
    "# Minimum and Maximum\n",
    "min(big_array), max(big_array)"
   ]
  },
  {
   "cell_type": "code",
   "execution_count": 115,
   "id": "695f121a",
   "metadata": {},
   "outputs": [
    {
     "data": {
      "text/plain": [
       "(3.129521215949893e-06, 0.999995293174921)"
      ]
     },
     "execution_count": 115,
     "metadata": {},
     "output_type": "execute_result"
    }
   ],
   "source": [
    "#NumPy’s corresponding functions have similar syntax, and again operate much more quickly:\n",
    "np.min(big_array), np.max(big_array)"
   ]
  },
  {
   "cell_type": "code",
   "execution_count": 116,
   "id": "75aabcfb",
   "metadata": {},
   "outputs": [
    {
     "name": "stdout",
     "output_type": "stream",
     "text": [
      "13.4 ms ± 217 µs per loop (mean ± std. dev. of 7 runs, 100 loops each)\n",
      "120 µs ± 2.81 µs per loop (mean ± std. dev. of 7 runs, 10000 loops each)\n"
     ]
    }
   ],
   "source": [
    "%timeit min(big_array)\n",
    "%timeit np.min(big_array)"
   ]
  },
  {
   "cell_type": "markdown",
   "id": "79d662a7",
   "metadata": {},
   "source": [
    "For min, max, sum, and several other NumPy aggregates, a shorter syntax is to use\n",
    "methods of the array object itself:"
   ]
  },
  {
   "cell_type": "code",
   "execution_count": 117,
   "id": "67d5939d",
   "metadata": {},
   "outputs": [
    {
     "name": "stdout",
     "output_type": "stream",
     "text": [
      "3.129521215949893e-06 0.999995293174921 49865.14110231724\n"
     ]
    }
   ],
   "source": [
    " print(big_array.min(), big_array.max(), big_array.sum())"
   ]
  },
  {
   "cell_type": "markdown",
   "id": "d4476d1c",
   "metadata": {},
   "source": [
    "Whenever possible, make sure that you are using the NumPy version of these aggre‐\n",
    "gates when operating on NumPy arrays!\n"
   ]
  },
  {
   "cell_type": "markdown",
   "id": "3478879d",
   "metadata": {},
   "source": [
    "# Multidimensional Aggregates"
   ]
  },
  {
   "cell_type": "code",
   "execution_count": 119,
   "id": "a58be729",
   "metadata": {},
   "outputs": [
    {
     "name": "stdout",
     "output_type": "stream",
     "text": [
      "[[0.01613884 0.04996529 0.8301247  0.43385593]\n",
      " [0.73883635 0.38995636 0.05194656 0.1340632 ]\n",
      " [0.94791142 0.49598361 0.97611883 0.80251776]]\n"
     ]
    }
   ],
   "source": [
    "M = np.random.random((3,4))\n",
    "print(M)"
   ]
  },
  {
   "cell_type": "markdown",
   "id": "77530095",
   "metadata": {},
   "source": [
    "Aggregation functions take an additional argument specifying the axis along which\n",
    "the aggregate is computed. For example, we can find the minimum value within each\n",
    "column by specifying axis=0:\n"
   ]
  },
  {
   "cell_type": "code",
   "execution_count": 121,
   "id": "38c8c34a",
   "metadata": {},
   "outputs": [
    {
     "data": {
      "text/plain": [
       "array([0.01613884, 0.04996529, 0.05194656, 0.1340632 ])"
      ]
     },
     "execution_count": 121,
     "metadata": {},
     "output_type": "execute_result"
    }
   ],
   "source": [
    "M.min(axis=0)"
   ]
  },
  {
   "cell_type": "code",
   "execution_count": 122,
   "id": "172c02f0",
   "metadata": {},
   "outputs": [
    {
     "data": {
      "text/plain": [
       "array([0.8301247 , 0.73883635, 0.97611883])"
      ]
     },
     "execution_count": 122,
     "metadata": {},
     "output_type": "execute_result"
    }
   ],
   "source": [
    "#maximum values within each row\n",
    "M.max(axis=1)"
   ]
  },
  {
   "cell_type": "markdown",
   "id": "60438e45",
   "metadata": {},
   "source": [
    "The way the axis is specified here can be confusing to users coming from other lan‐\n",
    "guages. The axis keyword specifies the dimension of the array that will be collapsed,\n",
    "rather than the dimension that will be returned. So specifying axis=0 means that the first axis will be collapsed: for two-dimensional arrays, this means that values within\n",
    "each column will be aggregated."
   ]
  },
  {
   "cell_type": "code",
   "execution_count": 124,
   "id": "91bcc880",
   "metadata": {},
   "outputs": [
    {
     "data": {
      "text/html": [
       "<div>\n",
       "<style scoped>\n",
       "    .dataframe tbody tr th:only-of-type {\n",
       "        vertical-align: middle;\n",
       "    }\n",
       "\n",
       "    .dataframe tbody tr th {\n",
       "        vertical-align: top;\n",
       "    }\n",
       "\n",
       "    .dataframe thead th {\n",
       "        text-align: right;\n",
       "    }\n",
       "</style>\n",
       "<table border=\"1\" class=\"dataframe\">\n",
       "  <thead>\n",
       "    <tr style=\"text-align: right;\">\n",
       "      <th></th>\n",
       "      <th>order</th>\n",
       "      <th>name</th>\n",
       "      <th>height(cm)</th>\n",
       "    </tr>\n",
       "  </thead>\n",
       "  <tbody>\n",
       "    <tr>\n",
       "      <th>0</th>\n",
       "      <td>1</td>\n",
       "      <td>George Washington</td>\n",
       "      <td>189</td>\n",
       "    </tr>\n",
       "    <tr>\n",
       "      <th>1</th>\n",
       "      <td>2</td>\n",
       "      <td>John Adams</td>\n",
       "      <td>170</td>\n",
       "    </tr>\n",
       "    <tr>\n",
       "      <th>2</th>\n",
       "      <td>3</td>\n",
       "      <td>Thomas Jefferson</td>\n",
       "      <td>189</td>\n",
       "    </tr>\n",
       "    <tr>\n",
       "      <th>3</th>\n",
       "      <td>4</td>\n",
       "      <td>James Madison</td>\n",
       "      <td>163</td>\n",
       "    </tr>\n",
       "    <tr>\n",
       "      <th>4</th>\n",
       "      <td>5</td>\n",
       "      <td>James Monroe</td>\n",
       "      <td>183</td>\n",
       "    </tr>\n",
       "  </tbody>\n",
       "</table>\n",
       "</div>"
      ],
      "text/plain": [
       "   order               name  height(cm)\n",
       "0      1  George Washington         189\n",
       "1      2         John Adams         170\n",
       "2      3   Thomas Jefferson         189\n",
       "3      4      James Madison         163\n",
       "4      5       James Monroe         183"
      ]
     },
     "execution_count": 124,
     "metadata": {},
     "output_type": "execute_result"
    }
   ],
   "source": [
    "import pandas as pd\n",
    "data = pd.read_csv('president_heights.csv')\n",
    "data.head()"
   ]
  },
  {
   "cell_type": "code",
   "execution_count": 126,
   "id": "ec789e40",
   "metadata": {},
   "outputs": [
    {
     "name": "stdout",
     "output_type": "stream",
     "text": [
      "[189 170 189 163 183 171 185 168 173 183 173 173 175 178 183 193 178 173\n",
      " 174 183 183 168 170 178 182 180 183 178 182 188 175 179 183 193 182 183\n",
      " 177 185 188 188 182 185 191 182]\n"
     ]
    }
   ],
   "source": [
    "heights = np.array(data['height(cm)'])\n",
    "print(heights)"
   ]
  },
  {
   "cell_type": "code",
   "execution_count": 127,
   "id": "e81f8c0f",
   "metadata": {},
   "outputs": [
    {
     "name": "stdout",
     "output_type": "stream",
     "text": [
      "Mean height:  180.04545454545453\n",
      "Standard deviation: 6.983599441335736\n",
      "Minimum height:  163\n",
      "Maximum height:  193\n"
     ]
    }
   ],
   "source": [
    "print(\"Mean height: \", heights.mean())\n",
    "print(\"Standard deviation:\", heights.std())\n",
    "print(\"Minimum height: \", heights.min())\n",
    "print(\"Maximum height: \", heights.max())"
   ]
  },
  {
   "cell_type": "code",
   "execution_count": 128,
   "id": "1320dd32",
   "metadata": {},
   "outputs": [
    {
     "name": "stdout",
     "output_type": "stream",
     "text": [
      "25th percentile:  174.75\n",
      "Median:  182.0\n",
      "75th percentile:  183.5\n"
     ]
    }
   ],
   "source": [
    "print(\"25th percentile: \", np.percentile(heights, 25))\n",
    "print(\"Median: \", np.median(heights))\n",
    "print(\"75th percentile: \", np.percentile(heights, 75))"
   ]
  },
  {
   "cell_type": "code",
   "execution_count": 129,
   "id": "62662bf3",
   "metadata": {},
   "outputs": [],
   "source": [
    "%matplotlib inline\n",
    "import matplotlib.pyplot as plt\n",
    "import seaborn; seaborn.set() # set plot style"
   ]
  },
  {
   "cell_type": "code",
   "execution_count": 133,
   "id": "76595759",
   "metadata": {},
   "outputs": [
    {
     "data": {
      "image/png": "[encoded data removed]",
      "text/plain": [
       "<Figure size 432x288 with 1 Axes>"
      ]
     },
     "metadata": {},
     "output_type": "display_data"
    }
   ],
   "source": [
    "plt.hist(heights)\n",
    "plt.title('Height Distribution of US Presidents')\n",
    "plt.xlabel('height (cm)')\n",
    "plt.ylabel('number')\n",
    "plt.show()"
   ]
  },
  {
   "cell_type": "markdown",
   "id": "8a761d7d",
   "metadata": {},
   "source": [
    "Histogram of presidential heights"
   ]
  },
  {
   "cell_type": "markdown",
   "id": "98cbd45a",
   "metadata": {},
   "source": [
    "# Broadcasting"
   ]
  },
  {
   "cell_type": "code",
   "execution_count": 134,
   "id": "3c72fcc0",
   "metadata": {},
   "outputs": [
    {
     "data": {
      "text/plain": [
       "array([5, 7, 9])"
      ]
     },
     "execution_count": 134,
     "metadata": {},
     "output_type": "execute_result"
    }
   ],
   "source": [
    "#Recall element-by-element basis of binary operations for arrays of the same size\n",
    "a = np.array([0,1,2])\n",
    "b = np.array([5,6,7])\n",
    "a+b"
   ]
  },
  {
   "cell_type": "markdown",
   "id": "38d4e194",
   "metadata": {},
   "source": [
    "Broadcasting allows these types of binary operations to be performed on arrays of dif‐\n",
    "ferent sizes—for example, we can just as easily add a scalar (think of it as a zero-dimensional array) to an array:"
   ]
  },
  {
   "cell_type": "code",
   "execution_count": 135,
   "id": "a4abed7c",
   "metadata": {},
   "outputs": [
    {
     "data": {
      "text/plain": [
       "array([5, 6, 7])"
      ]
     },
     "execution_count": 135,
     "metadata": {},
     "output_type": "execute_result"
    }
   ],
   "source": [
    "a+5"
   ]
  },
  {
   "cell_type": "markdown",
   "id": "406a6ad6",
   "metadata": {},
   "source": [
    "We can think of this as an operation that stretches or duplicates the value 5 into the\n",
    "array [5, 5, 5], and adds the results. The advantage of NumPy’s broadcasting is that\n",
    "this duplication of values does not actually take place, but it is a useful mental model\n",
    "as we think about broadcasting"
   ]
  },
  {
   "cell_type": "code",
   "execution_count": 136,
   "id": "0a27a888",
   "metadata": {},
   "outputs": [
    {
     "data": {
      "text/plain": [
       "array([[1., 2., 3.],\n",
       "       [1., 2., 3.],\n",
       "       [1., 2., 3.]])"
      ]
     },
     "execution_count": 136,
     "metadata": {},
     "output_type": "execute_result"
    }
   ],
   "source": [
    "M = np.ones((3,3))\n",
    "M+a"
   ]
  },
  {
   "cell_type": "markdown",
   "id": "c0995378",
   "metadata": {},
   "source": [
    "Here the one-dimensional array a is stretched, or broadcast, across the second\n",
    "dimension in order to match the shape of M."
   ]
  },
  {
   "cell_type": "code",
   "execution_count": 138,
   "id": "54d22e39",
   "metadata": {},
   "outputs": [
    {
     "name": "stdout",
     "output_type": "stream",
     "text": [
      "[0 1 2]\n",
      "[[0]\n",
      " [1]\n",
      " [2]]\n"
     ]
    }
   ],
   "source": [
    "a = np.arange(3)\n",
    "b = np.arange(3)[:, np.newaxis]\n",
    "print(a)\n",
    "print(b)"
   ]
  },
  {
   "cell_type": "code",
   "execution_count": 139,
   "id": "41b4ed60",
   "metadata": {},
   "outputs": [
    {
     "data": {
      "text/plain": [
       "array([[0, 1, 2],\n",
       "       [1, 2, 3],\n",
       "       [2, 3, 4]])"
      ]
     },
     "execution_count": 139,
     "metadata": {},
     "output_type": "execute_result"
    }
   ],
   "source": [
    "a+b"
   ]
  },
  {
   "cell_type": "markdown",
   "id": "f5972d47",
   "metadata": {},
   "source": [
    "Just as before we stretched or broadcasted one value to match the shape of the other,\n",
    "here we’ve stretched both a and b to match a common shape, and the result is a two-dimensional array! "
   ]
  },
  {
   "cell_type": "markdown",
   "id": "1c49a174",
   "metadata": {},
   "source": [
    "# Rules of Broadcasting"
   ]
  },
  {
   "cell_type": "markdown",
   "id": "1cc9940a",
   "metadata": {},
   "source": [
    "Broadcasting in NumPy follows a strict set of rules to determine the interaction\n",
    "between the two arrays:\n",
    "Rule 1: If the two arrays differ in their number of dimensions, the shape of the\n",
    "one with fewer dimensions is padded with ones on its leading (left) side.\n",
    "Rule 2: If the shape of the two arrays does not match in any dimension, the array\n",
    "with shape equal to 1 in that dimension is stretched to match the other shape.\n",
    "Rule 3: If in any dimension the sizes disagree and neither is equal to 1, an error is raised.\n"
   ]
  },
  {
   "cell_type": "code",
   "execution_count": 141,
   "id": "2678fbd7",
   "metadata": {},
   "outputs": [
    {
     "data": {
      "text/plain": [
       "array([[1., 2., 3.],\n",
       "       [1., 2., 3.]])"
      ]
     },
     "execution_count": 141,
     "metadata": {},
     "output_type": "execute_result"
    }
   ],
   "source": [
    "#2D array plus a 1D array\n",
    "M = np.ones((2, 3))\n",
    "a = np.arange(3)\n",
    "M+a"
   ]
  },
  {
   "cell_type": "code",
   "execution_count": 142,
   "id": "07333319",
   "metadata": {},
   "outputs": [
    {
     "data": {
      "text/plain": [
       "array([[0, 1, 2],\n",
       "       [1, 2, 3],\n",
       "       [2, 3, 4]])"
      ]
     },
     "execution_count": 142,
     "metadata": {},
     "output_type": "execute_result"
    }
   ],
   "source": [
    "#where both arrays need to be broadcast\n",
    "a = np.arange(3).reshape(3,1)\n",
    "b = np.arange(3)\n",
    "a+b"
   ]
  },
  {
   "cell_type": "code",
   "execution_count": 143,
   "id": "d743c5a0",
   "metadata": {},
   "outputs": [
    {
     "ename": "ValueError",
     "evalue": "operands could not be broadcast together with shapes (3,2) (3,) ",
     "output_type": "error",
     "traceback": [
      "\u001b[1;31m---------------------------------------------------------------------------\u001b[0m",
      "\u001b[1;31mValueError\u001b[0m                                Traceback (most recent call last)",
      "\u001b[1;32m~\\AppData\\Local\\Temp/ipykernel_6884/1114279789.py\u001b[0m in \u001b[0;36m<module>\u001b[1;34m\u001b[0m\n\u001b[0;32m      2\u001b[0m \u001b[0mM\u001b[0m \u001b[1;33m=\u001b[0m \u001b[0mnp\u001b[0m\u001b[1;33m.\u001b[0m\u001b[0mones\u001b[0m\u001b[1;33m(\u001b[0m\u001b[1;33m(\u001b[0m\u001b[1;36m3\u001b[0m\u001b[1;33m,\u001b[0m \u001b[1;36m2\u001b[0m\u001b[1;33m)\u001b[0m\u001b[1;33m)\u001b[0m\u001b[1;33m\u001b[0m\u001b[1;33m\u001b[0m\u001b[0m\n\u001b[0;32m      3\u001b[0m \u001b[0ma\u001b[0m \u001b[1;33m=\u001b[0m \u001b[0mnp\u001b[0m\u001b[1;33m.\u001b[0m\u001b[0marange\u001b[0m\u001b[1;33m(\u001b[0m\u001b[1;36m3\u001b[0m\u001b[1;33m)\u001b[0m\u001b[1;33m\u001b[0m\u001b[1;33m\u001b[0m\u001b[0m\n\u001b[1;32m----> 4\u001b[1;33m \u001b[0mM\u001b[0m\u001b[1;33m+\u001b[0m\u001b[0ma\u001b[0m\u001b[1;33m\u001b[0m\u001b[1;33m\u001b[0m\u001b[0m\n\u001b[0m",
      "\u001b[1;31mValueError\u001b[0m: operands could not be broadcast together with shapes (3,2) (3,) "
     ]
    }
   ],
   "source": [
    "#when two arrays are not compatible\n",
    "M = np.ones((3, 2))\n",
    "a = np.arange(3)\n",
    "M+a"
   ]
  },
  {
   "cell_type": "markdown",
   "id": "f56da3ca",
   "metadata": {},
   "source": [
    "Considering rule 3, the final shapes of the arrays do not mathc so they are incompatible and give an error"
   ]
  },
  {
   "cell_type": "markdown",
   "id": "bd4feb30",
   "metadata": {},
   "source": [
    "# Broadcasting in practice"
   ]
  },
  {
   "cell_type": "code",
   "execution_count": 144,
   "id": "2433bfb8",
   "metadata": {},
   "outputs": [
    {
     "data": {
      "text/plain": [
       "array([0.47335154, 0.51024411, 0.4185776 ])"
      ]
     },
     "execution_count": 144,
     "metadata": {},
     "output_type": "execute_result"
    }
   ],
   "source": [
    "#Centering an array\n",
    "x = np.random.random((10,3))\n",
    "xmean = x.mean(0)\n",
    "xmean"
   ]
  },
  {
   "cell_type": "code",
   "execution_count": 146,
   "id": "d9e874bf",
   "metadata": {},
   "outputs": [
    {
     "data": {
      "text/plain": [
       "array([-4.44089210e-17, -3.33066907e-17, -3.33066907e-17])"
      ]
     },
     "execution_count": 146,
     "metadata": {},
     "output_type": "execute_result"
    }
   ],
   "source": [
    "#centering the x array by subtracting the mean - this is a broadcasting operation\n",
    "x_centered = x - xmean\n",
    "x_centered.mean(0)"
   ]
  },
  {
   "cell_type": "markdown",
   "id": "40ae935e",
   "metadata": {},
   "source": [
    "To double check that the broadcasting is done correctly, the centered array should have a near zero mean."
   ]
  },
  {
   "cell_type": "markdown",
   "id": "8c965cd9",
   "metadata": {},
   "source": [
    "##Plotting a two-dimensional function\n",
    "Broadcasting is very useful in displaying images based on two-dimensional functions. If we want to define a function z = f(x, y), broadcasting can be used to compute the function across the grid"
   ]
  },
  {
   "cell_type": "code",
   "execution_count": 147,
   "id": "57ea026f",
   "metadata": {},
   "outputs": [
    {
     "data": {
      "image/png": "[encoded data removed]",
      "text/plain": [
       "<Figure size 432x288 with 2 Axes>"
      ]
     },
     "metadata": {},
     "output_type": "display_data"
    }
   ],
   "source": [
    "# x and y have 50 steps from 0 to 5\n",
    "x = np.linspace(0, 5, 50)\n",
    "y = np.linspace(0, 5, 50)[:, np.newaxis]\n",
    "z = np.sin(x) ** 10 + np.cos(10 + y * x) * np.cos(x)\n",
    "\n",
    "plt.imshow(z, origin='lower', extent=[0, 5, 0, 5],\n",
    "cmap='viridis')\n",
    "plt.colorbar()\n",
    "plt.show()"
   ]
  },
  {
   "cell_type": "markdown",
   "id": "bf03f2fb",
   "metadata": {},
   "source": [
    "Visualization of a 2D array"
   ]
  },
  {
   "cell_type": "code",
   "execution_count": null,
   "id": "883b03e0",
   "metadata": {},
   "outputs": [],
   "source": []
  }
 ],
 "metadata": {
  "kernelspec": {
   "display_name": "Python 3 (ipykernel)",
   "language": "python",
   "name": "python3"
  },
  "language_info": {
   "codemirror_mode": {
    "name": "ipython",
    "version": 3
   },
   "file_extension": ".py",
   "mimetype": "text/x-python",
   "name": "python",
   "nbconvert_exporter": "python",
   "pygments_lexer": "ipython3",
   "version": "3.9.7"
  }
 },
 "nbformat": 4,
 "nbformat_minor": 5
}
